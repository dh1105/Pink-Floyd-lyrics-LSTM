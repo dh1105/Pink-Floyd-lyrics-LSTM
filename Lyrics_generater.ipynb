{
  "nbformat": 4,
  "nbformat_minor": 0,
  "metadata": {
    "colab": {
      "name": "Lyrics generater",
      "provenance": [],
      "collapsed_sections": []
    },
    "kernelspec": {
      "name": "python3",
      "display_name": "Python 3"
    },
    "accelerator": "GPU"
  },
  "cells": [
    {
      "cell_type": "markdown",
      "metadata": {
        "id": "87S3U-A3V0Cm",
        "colab_type": "text"
      },
      "source": [
        "**Lyric generation using LSTMs**\n",
        "\n",
        "Data set: Scraping lyrics of all songs from the internet."
      ]
    },
    {
      "cell_type": "code",
      "metadata": {
        "id": "m8auqViHVjop",
        "colab_type": "code",
        "colab": {}
      },
      "source": [
        "from bs4 import BeautifulSoup\n",
        "import requests\n",
        "import pandas as pd \n",
        "\n",
        "BAND_NAME = 'Pink Floyd'"
      ],
      "execution_count": 0,
      "outputs": []
    },
    {
      "cell_type": "code",
      "metadata": {
        "id": "KO6Tw5eoW-Ja",
        "colab_type": "code",
        "colab": {}
      },
      "source": [
        "def get_song_links():\n",
        "  url = 'https://www.allthelyrics.com/lyrics/pink_floyd'\n",
        "  html = requests.get(url)\n",
        "  soup = BeautifulSoup(html.text, 'html.parser')\n",
        "  hrefs = []\n",
        "  names = []\n",
        "  songs = soup.find_all('a')\n",
        "\n",
        "  for song in songs:\n",
        "    if '/lyrics/pink_floyd/' in song['href'] and song['href'] not in hrefs:\n",
        "      names.append(song.text)\n",
        "      hrefs.append(song['href'])\n",
        "      \n",
        "  return hrefs, names"
      ],
      "execution_count": 0,
      "outputs": []
    },
    {
      "cell_type": "code",
      "metadata": {
        "id": "FrrIT-QYhP0m",
        "colab_type": "code",
        "colab": {}
      },
      "source": [
        "def get_song_lyrics(hrefs, names):\n",
        "  lyrics = \"\"\n",
        "  for href, name in zip(hrefs, names):\n",
        "    url = 'https://www.allthelyrics.com' + href\n",
        "    html = requests.get(url)\n",
        "    soup = BeautifulSoup(html.text, 'html.parser')\n",
        "    div = soup.find('div', {'class': 'content-text-inner'})\n",
        "    lyrics += \" \" + div.get_text()\n",
        "  return lyrics"
      ],
      "execution_count": 0,
      "outputs": []
    },
    {
      "cell_type": "code",
      "metadata": {
        "id": "cvI_b3o8iJNt",
        "colab_type": "code",
        "colab": {}
      },
      "source": [
        "hrefs, names = get_song_links()\n",
        "lyrics = get_song_lyrics(hrefs, names)\n",
        "\n",
        "print(lyrics)"
      ],
      "execution_count": 0,
      "outputs": []
    },
    {
      "cell_type": "code",
      "metadata": {
        "id": "cFiqMv6ozHTk",
        "colab_type": "code",
        "outputId": "c60d4f4b-2e9c-4db8-b672-03b494733833",
        "colab": {
          "base_uri": "https://localhost:8080/",
          "height": 124
        }
      },
      "source": [
        "from google.colab import drive\n",
        "drive.mount('/content/drive')"
      ],
      "execution_count": 2,
      "outputs": [
        {
          "output_type": "stream",
          "text": [
            "Go to this URL in a browser: https://accounts.google.com/o/oauth2/auth?client_id=947318989803-6bn6qk8qdgf4n4g3pfee6491hc0brc4i.apps.googleusercontent.com&redirect_uri=urn%3Aietf%3Awg%3Aoauth%3A2.0%3Aoob&scope=email%20https%3A%2F%2Fwww.googleapis.com%2Fauth%2Fdocs.test%20https%3A%2F%2Fwww.googleapis.com%2Fauth%2Fdrive%20https%3A%2F%2Fwww.googleapis.com%2Fauth%2Fdrive.photos.readonly%20https%3A%2F%2Fwww.googleapis.com%2Fauth%2Fpeopleapi.readonly&response_type=code\n",
            "\n",
            "Enter your authorization code:\n",
            "··········\n",
            "Mounted at /content/drive\n"
          ],
          "name": "stdout"
        }
      ]
    },
    {
      "cell_type": "code",
      "metadata": {
        "id": "cZjhXamhzY8H",
        "colab_type": "code",
        "colab": {}
      },
      "source": [
        "export_csv = df.to_csv ('/content/drive/My Drive/Lyrics_generator/dataset_floyd.csv', index = None, header=True)"
      ],
      "execution_count": 0,
      "outputs": []
    },
    {
      "cell_type": "markdown",
      "metadata": {
        "id": "C-G3Nm-PAZvo",
        "colab_type": "text"
      },
      "source": [
        "**Data cleaning**"
      ]
    },
    {
      "cell_type": "code",
      "metadata": {
        "id": "OpxedwQ-Ahqa",
        "colab_type": "code",
        "colab": {}
      },
      "source": [
        "from keras.preprocessing.sequence import pad_sequences\n",
        "from keras.layers import Embedding, LSTM, Dense, Dropout\n",
        "from keras.preprocessing.text import Tokenizer\n",
        "from keras.models import load_model\n",
        "from keras.callbacks import EarlyStopping\n",
        "from keras.models import Sequential\n",
        "import keras.utils as ku \n",
        "from array import array\n",
        "\n",
        "from tensorflow import set_random_seed\n",
        "from numpy.random import seed\n",
        "set_random_seed(2)\n",
        "seed(1)\n",
        "\n",
        "import numpy as np\n",
        "import string, os \n",
        "import re"
      ],
      "execution_count": 0,
      "outputs": []
    },
    {
      "cell_type": "code",
      "metadata": {
        "id": "0NSdWKUPAsr8",
        "colab_type": "code",
        "outputId": "1cc3376d-bb85-4530-d35c-1583f60aeb9e",
        "colab": {
          "base_uri": "https://localhost:8080/",
          "height": 55
        }
      },
      "source": [
        "all_lyrics = []\n",
        "df = pd.read_csv(\"/content/drive/My Drive/Lyrics_generator/dataset_floyd.csv\")\n",
        "all_lyrics.extend(list(df.Lyrics.values))\n",
        "\n",
        "all_lyrics = [l for l in all_lyrics if l != \"Unknown\"]\n",
        "print(all_lyrics)"
      ],
      "execution_count": 12,
      "outputs": [
        {
          "output_type": "stream",
          "text": [
            "['Bridges burning gladly\\nMerging with the shadows,\\nFlickering between the\\nlines.\\nStolen moments floating softly on the air,\\nBorne on wings of fire\\nand climbing higher.\\nAncient bonds are breaking,\\nMoving on and\\nchanging sides.\\nDreaming of a new day,\\nCast aside the other way.\\nMagic visions stirring,\\nKindled by and burning flames rise in her eyes.\\nThe doorway stands ajar,\\nThe walls that once were high.\\nBeyond\\nthe gilded cage,\\nBeyond the reach of ties.\\nThe moment is at hand.\\nShe breaks the golden band.\\n', \"So, so you think you can tell Heaven from Hell,\\nblue skies from pain.\\nCan you tell a green field from a cold steel rail? A smile from a veil?\\nDo you think you can tell?\\nAnd did they get you trade your heroes for ghosts?\\nHot ashes for trees? Hot air for a cold breeze?\\nCold comfort for change? And did you exchange\\na walk on part in the war for a lead role in a cage?\\nHow I wish, how I wish you were here.\\nWe're just two lost souls swimming in a fish bowl,\\nyear after year,\\nrunning over the same old ground. What have we found?\\nThe same old fears,\\nwish you were here...\\n\", \"Hello,\\nIs there anybody out there\\nJust nod if you can hear me\\nIs there anyone at home\\ncome on now,\\nI hear you're feeling down\\nI can ease your pain\\nAnd get you on your feet again\\nRelax\\nI'll need some information first\\nJust the basic facts\\nCan you show me where it hurts?\\nThere is no pain you are receding\\na distant ship smoke on the horizon\\nYou are only coming through in waves\\nYour lips move but I can't hear what you're saying\\nWhen I was a child I had a fever\\nMy hands felt just like two balloons\\nNow I've got that feeling once again\\nI can't explain you would not understand\\nThis is not how I am\\nI have become comfortably numb\\nO.K.\\nJust a little pinprick\\nThere'll be no more hurting\\nBut you may feel a little sick\\ncan you stand up?\\nI do believe its working good\\nthat'll keep you going through the show\\nCome on its time to go\\nThere is no pain, you are receding\\nA distant ship smoke on the horizon\\nYou are only coming through in waves\\nYour lips move but I can't hear what you're saying\\nWhen I was a child\\nI caught a fleeting glimpse\\nOut of the corner of my eye\\nI turned to look but it was gone\\nI cannot put my finger on it now\\nThe child is grown\\nThe dream is gone\\nAnd I have become\\nComfortably numb\\n\", \"Ticking away the moments that make up a dull day\\nYou fritter and waste the hours in an off-hand way\\nKicking around on a piece of ground in your home town\\nWaiting for someone or something to show you the way\\nTired of lying in the sunshine staying home to watch the rain\\nYou are young and life is long and there is time to kill today\\nAnd then the one day you find ten years have got behind you\\nNo one told you when to run, you missed the starting gun\\nAnd you run and you run to catch up with the sun, but it's sinking\\nAnd racing around to come up behind you again\\nThe sun is the same in a relative way, but you're older,\\nShorter of breath and one day closer to death\\nEvery year is getting shorter, never seem to find the time\\nPlans that either come to naught or half a page of scribbled lines\\nHanging on in quiet desparation is the English way\\nThe time is gone the song is over, thought I'd something more to say\\n\", \"Where were you when I was burned and broken\\nWhile the days slipped by from my window watching\\nWhere were you when I was hurt and helpless\\nBecause the things you say and the things you do surround me\\nWhile you were hanging yourself on someone else's words\\nDying to believe in what you heard\\nI was staring straight into the shining sun\\nLost in thought and lost in time\\nWhile the seeds of lifeand the seeds of change were planted\\nOutside the rain fell dark and slow\\nWhile I pondered on this dangerous but irresistible pastime\\nI took a heavenly ride through our silence\\nI knew the moment had arrived\\nFor killing the past and coming back to life\\nI took a heavenly ride through our silence\\nI knew the waiting had begun\\nAnd headed straight..into the shining sun\\n\", \"On the day the wall came down\\nThey threw the locks onto the ground\\nAnd with glasses high we raised a cry for freedom had arrived\\nOn the day the wall came down\\nThe Ship of Fools had finally ran aground\\nPromises lit up the night like paper doves in flight\\nI dreamed you had left my side\\nNo warmth, not even pride remained\\nAnd even though you needed me\\nIt was clear that I could not do a thing for you\\nNot life devalues day by day\\nAs friends and neighbors turn away\\nAnd there's a change that, even with regret, cannot be undone\\nNow frontiers shift like desert sands\\nWhile nations wash their bloodied hands\\nOf loyalty, of history, in shades of grey\\nI woke to the sound of drums\\nThe music played, the morning sun streamed in\\nI turned and I looked at you\\nAnd all but the bitter residues slipped away...slipped away\\n\", \"(David Gilmour/Polly Samson)\\nOn the day the wall came down\\nThey threw the locks onto the ground\\nAnd with glasses high we raised a cry for freedom had arrived\\nOn the day the wall came down\\nThe ship of fools had finally run aground\\nPromises lit up the night like paper doves in flight\\nI dreamed you had left my side\\nNo warmth, not even pride remained\\nAnd even though you needed me\\nIt was clear that I could not do a thing for you\\nNew life devolves day by day\\nAs friends and neighbours turn away\\nAnd there's a change that, even with regret, cannot be undone\\nNow frontiers shift like desert sands\\nWhile nations wash their bloodied hands\\nOf loyalty, of history, in shades of grey\\nI woke to the sound of drums\\nThe music played, the morning sun streamed in\\nI turned and I looked at you\\nAnd all but the bitter residue slipped away...slipped away\\n\", \"A cloud of eider down\\nDraws around me softening the sound\\nSleepy time in my life\\nWith my love by my side\\nAnd she's breathing low\\nAnd the candle dies.\\nWhen night comes down you lock the door\\nThe boot falls to the floor\\nAs darkness falls and waves roll by\\nThe seasons change\\nThe wind is raw.\\nNow wakes the hour that sleeps the swan\\nBehold a dream, the dream is gone\\nGreen fields\\nA cold rain is falling\\nNear the golden dawn.\\nAnd deep beneath the ground\\nThe early morning sounds and I go down\\nSleepy time in our life\\nWith my love by my side\\nAnd she's breathing low\\nAnd I rise like a bird\\nIn the haze and the first rays touch the sky\\nAnd the night winds die.\\n\", 'Bath of tequila, Manuel\\nLeaf and cringle\\nLaugh at my lisp and kill you\\nI think\\nThis Spanish music\\nIt sets my soul on fire\\nLovely seniorita\\nYour eyes are like stars\\nYour teeth are like pearls\\nYour ruby lips seniorita\\n', 'Daddys Flown Across the Ocean\\nLeaving Just a Memory\\nA Snapshot in the Family Album\\nDaddy what else did you leave for me?\\nDad What You Leave Behind for me?\\nAll and all it was just a brick in the wall\\nall in all it was all just bricks in the wall\\n* Hey!*\\n(Children Speaking)\\n(Helicopters)\\n*You, Yes You, Stand Still Laddie!*\\nWhen we grew up and went to school, there were certain teachers who would hurt the children anyway they could\\nby pouring any region upon anything they did, exposing every weakness and carefully they did to the kids.\\nWe don\\'t need no education\\nWe don\\'t need no thought control\\nNo dark sarcasm in the classroom\\nTeachers leave them kids alone\\nHey! Teacher! Leave us kids alone!\\nAll in all you\\'re just another brick in the wall.\\nAll in all you\\'re just another brick in the wall.\\nWe don\\'t need no education\\nWe don\\'t need no thought control\\nNo dark sarcasm in the classroom\\nTeachers leave them kids alone\\nHey! Teacher! Leave us kids alone!\\nAll in all it\\'s just another brick in the wall.\\nAll in all you\\'re just another brick in the wall.\\nSpoken:\\n\"Wrong, Do it again!\\nWrong, Do it again!\\nIf you don\\'t eat yer meat, you can\\'t have any pudding.\\nHow can you have any pudding if you don\\'t eat yer meat?\\nYou! Yes, you behind the bikesheds, stand still laddie!\"\\n[Sound of many TV\\'s coming on, all on different channels]\\n\"The Bulls are already out there\"\\nPink: \"Aaaaaaaaaaaaaaaaaaaaaaaarrrrrgh!\"\\n\"This Roman Meal bakery thought you\\'d like to know.\"\\nI don\\'t need no arms around me\\nAnd I dont need no drugs to calm me.\\nI have seen the writing on the wall.\\nDon\\'t think I need anything at all.\\nNo! Don\\'t think I\\'ll need anything at all.\\nAll in all it was all just bricks in the wall.\\nAll in all you were all just bricks in the wall.\\n', \"Got a flip-top pack of cigarettes in her pocket\\nFeeling good at the top\\nShopping in sharp shoes\\nWalking in the sunshine town feeling very cool\\nBut the butchers and the bakers in the supermarket stores\\nGetting everything she wants from the supermarket stores\\nApples and oranges\\nApples and oranges\\nCornering neatly she trips up sweetly\\nTo meet the people\\nShe's on time again\\nAnd then\\nI catch her by the eye then I stop and have to think\\nWhat a funny thing to do 'cause I'm feeling very pink\\nApples and oranges\\nApples and oranges\\nI love she\\nShe loves me\\nSee you\\nSee you\\nThought you might to know\\nI'm the lorry driver man\\nShe's on the run\\nDown by the river side\\nFeeding ducks by the afternoon tide\\n(quack quack)\\nApples and oranges\\nApples and oranges\\nApples and oranges\\n\", \"Feeling good at the top\\nShopping in sharp shoes\\nWalking in the sunshine town feeling very cool\\nBut the butchers and the bakers in the supermarket stores\\nGetting everything she wants from the supermarket stores\\nApples and oranges\\nApples and oranges\\nCornering neatly she trips up sweetly\\nTo meet the people\\nShe's on time again\\nAnd then\\nI catch her by the eye then I stop and have to think\\nWhat a funny thing to do 'cause I'm feeling very pink\\nApples and oranges\\nApples and oranges\\nI love she\\nShe loves me\\nSee you\\nSee you\\nThought you might to know\\nI'm the lorry driver man\\nShe's on the run\\nDown by the river side\\nfeeding ducks by the afternoon tide\\n(quack quack)\\nApples and oranges\\nApples and oranges\\nApples and oranges\\n\", \"Arnold layne had a strange hobby\\nCollecting clothes\\nMoonshine washing line\\nThey suit him fine\\nOn the wall hung a tall mirror\\nDistorted view, see through baby blue\\nOh, arnold layne\\nIt's not the same, takes two to know\\nTwo to know, two to know\\nWhy can't you see?\\nArnold layne, arnold layne, arnold layne, arnold layne\\nNow he's caught - a nasty sort of person\\nThey gave him time\\nDoors bang - chain gang - he hates it\\nOh, arnold layne\\nIt's not the same, takes two to know\\nTwo to know, two to know\\nWhy can't you see?\\nArnold layne, arnold layne, arnold layne, arnold layne\\nDon't do it again\\n\", \"Arnold Layne had a strange hobby\\nCollecting clothes\\nMoonshine washing line\\nThey suit him fine\\nOn the wall hung a tall mirror\\nDistorted view, see through baby blue\\nOh, Arnold Layne\\nIt's not the same, takes two to know\\nTwo to know, two to know\\nWhy can't you see?\\nArnold Layne, Arnold Layne, Arnold Layne, Arnold Layne\\nNow he's caught - a nasty sort of person\\nThey gave him time\\nDoors bang - chain gang - he hates it\\nOh, Arnold Layne\\nIt's not the same, takes two to know\\nTwo to know, two to know\\nWhy can't you see?\\nArnold Layne, Arnold Layne, Arnold Layne, Arnold Layne\\nDon't do it again\\n\", \"Lime and limpid green a second scene a fight between the blue you once knew\\nFloating down the sound resounds around the icy waters underground\\nJupiter and Saturn\\nOberon, Miranda, and Titania,\\nNeptune titan stars can frighten\\nBlinding signs flat flicka flicka flicka blam pow\\nStairway scare, Dan dare who's there?\\nLime and limpid green, the sound surrounds the icy waters underground\\nLime and limpid green, the sound surrounds the icy waters underground\\n\", \"Lime and limpid green, a second scene\\nA fight between the blue you once knew.\\nFloating down, the sound resounds\\nAround the icy waters underground.\\nJupiter and Saturn, Oberon, Miranda and Titania.\\nNeptune, Titan, Stars can frighten.\\nLime and limpid green, a second scene\\nA fight between the blue you once knew.\\nFloating down, the sound resounds\\nAround the icy waters underground.\\nJupiter and Saturn, Oberon, Miranda and Titania.\\nNeptune, Titan, Stars can frighten.\\nBlinding signs flap,\\nFlicker, flicker, flicker blam. Pow, pow.\\nStairway scare Dan dare who's there?\\nLime and limpid green, the sounds around\\nThe icy waters under\\nLime and limpid green, the sounds around\\nThe icy waters underground.\\n\", \"In the sad town\\nCold iron hands clap\\nThe party of clowns outside\\nRain falls in gray far away\\nPlease, please, baby lemonade\\nIn the evening sun going down\\nWhen the earth streams in, in the morning\\nSend a cage through the post\\nMake your name like a ghost\\nPlease, please, baby lemonade\\nI'm screaming, I met you this way\\nYou're nice to me like ice\\nIn the clock they sent through a washing machine\\nCome around, make it soon, so alone...\\nPlease, please, baby lemonade\\nIn the sad town\\nCold iron hands clap\\nThe party of clowns outside\\nRain falls in gray far away\\nPlease, please, baby lemonade\\nIn the evening sun going down\\nWhen the earth streams in, in the morning\\nSend a cage through the post\\nMake your name like a ghost\\nPlease, please, baby lemonade\\n\", \"Wasting my time,\\nResting my mind\\nAnd I'll never pine\\nFor the sad days and the bad days\\nWhen we was workin' from nine to five.\\nAnd if you don't mind\\nI'll spend my time\\nHere by the fire side\\nIn the warm light and the love in her eyes.\\nAnd if you don't mind\\nI'll spend my time\\nHere by the fire side\\nIn the warm light of her eyes\\n\", \"I've got a bike. You can ride it if you like.\\nIt's got a basket, a bell that rings and\\nThings to make it look good.\\nI'd give it to you if I could, but I borrowed it.\\nYou're the kind of girl that fits in with my world.\\nI'll give you anything, ev'rything if you want things.\\nI've got a cloak. It's a bit of a joke.\\nThere's a tear up the front. It's red and black.\\nI've had it for months.\\nIf you think it could look good, then I guess it should.\\nYou're the kind of girl that fits in with my world.\\nI'll give you anything, ev'rything if you want things.\\nI know a mouse, and he hasn't got a house.\\nI don't know why. I call him Gerald.\\nHe's getting rather old, but he's a good mouse.\\nYou're the kind of girl that fits in with my world.\\nI'll give you anything, ev'rything if you want things.\\nI've got a clan of gingerbread men.\\nHere a man, there a man, lots of gingerbread men.\\nTake a couple if you wish. They're on the dish.\\nYou're the kind of girl that fits in with my world.\\nI'll give you anything, ev'rything if you want things.\\nI know a room of musical tunes.\\nSome rhyme, some ching. Most of them are clockwork.\\nLet's go into the other room and make them work.\\n\", \"The lunatic is on the grass\\nThe lunatic is on the grass\\nRemembering games and daisy chains and laughs\\nGot to keep the loonies on the path\\nThe lunatic is in the hall\\nThe lunatics are in my hall\\nThe paper holds their folded faces to the floor\\nAnd every day the paper boy brings more\\nAnd if the dam breaks open many years too soon\\nAnd if there is no room upon the hill\\nAnd if your head explodes with dark forbodings too\\nI'll see you on the dark side of the moon\\nThe lunatic is in my head\\nThe lunatic is in my head\\nYou raise the blade, you make the change\\nYou re-arrange me 'till I'm sane\\nYou lock the door\\nAnd throw away the key\\nThere's someone in my head but it's not me.\\nAnd if the cloud bursts, thunder in your ear\\nYou shout and no one seems to hear\\nAnd if the band you're in starts playing different tunes\\nI'll see you on the dark side of the moon\\nI can't think of anything to say except...\\nI think it's marvellous! HaHaHa!\\n\", \"Home, home again\\nI like to be there when I can\\nWhen I come in cold and tired\\nIt's good to warm my bones beside the fire\\nFar away across the field\\nThe tolling of the iron bell\\nCalls the faithful to their knees\\nTo hear the softly spoken magic spells.\\n\", \"Breathe, breathe in the air\\n Don't be afraid to care\\n Leave but don't leave me\\n Look around and choose your own ground\\n For long you live and high you fly\\n And smiles you'll give and tears you'll cry\\n And all you touch and all you see\\n Is all your life will ever be\\n Run, rabbit, run\\n Dig that hole, forget the sun,\\n And when at last the work is done\\n Don't sit down, it's time to dig another one\\n For long you live and high you fly\\n But only if you ride the tide\\n And balanced on the biggest wave\\n You race towards an early grave.\\n\", 'Bridges burning gladly,\\nMerging with the shadows,\\nFlickering between the lines.\\nStolen moments floating softly on the air,\\nBorn on wings of fire and climbing higher.\\nAncient bonds are breaking,\\nMoving on and changing sides.\\nDreaming of a new day,\\nCast aside the other way.\\nMagic visions stirring,\\nKindled by and burning flames rise in her eyes.\\nThe door stands ajar,\\nThe wall that once were high.\\nBeyond the gilded cage,\\nBeyond the reach of ties.\\nThe moment is at hand.\\nShe breaks the golden band.\\n', \"Oh my, girl sitting in the sun\\nGo buy, candy and a currant bun\\nI like, to see you run\\nLike that......\\nOooh, don't talk to me\\nPlease just fuck with me\\nPlease you know I'm feeling frail\\nIt's true, sun shining very bright\\nIt's you, who I'm gonna love tonight\\nIce cream, taste good in the afternoon\\nIce cream, taste good if you eat it soon\\nOooh, don't touch me child\\nPlease you know you drive me wild\\nPlease you know I'm feeling frail\\nDon't try another cat\\nDon't go where other you must know why\\nVery very very frail\\nOh my, girl sitting in the sun\\nGo buy, candy and a currant bun\\nI like, to see you run\\nLike that......\\n\", 'A movement is accomplished in six stages\\nAnd the seventh brings return.\\nThe seven is the number of the young light\\nIt forms when darkness is increased by one.\\nChange returns success\\nGoing and coming without error.\\nAction brings good fortune.\\nSunset.\\nThe time is with the month of winter solstice\\nWhen the change is due to come.\\nThunder in the other course of heaven.\\nThings cannot be destroyed once and for all.\\nChange returns success\\nGoing and coming without error.\\nAction brings good fortune.\\nSunset, sunrise.\\nA movement is accomplished in six stages\\nAnd the seventh brings return.\\nThe seven is the number of the young light\\nIt forms when darkness is increased by one.\\nChange returns success\\nGoing and coming without error.\\nAction brings good fortune.\\nSunset, sunrise.\\n', \"You shout in your sleep.\\nPerhaps the price is just too stepp.\\nIs your conscience at rest if once put to the test?\\nYou awake with a start to just the beating of your heart.\\nJust one man beneath the sky,\\nJust two ears, just two eyes.\\nYou set sail across the sea of longpast thoughts and memories.\\nChildhood's end,\\nYour fantasies merge with harsh realities.\\nAnd then as the sail is hoist,\\nYou find your eyes are growing moist.\\nAll the fears never voiced say you have to make your final choice.\\nWho are you and who am I to say we know the reason why?\\nSome are born;\\nSome men die beneath one infinite sky.\\nThere'll be war, there'll be peace.\\nBut everything one day will cease.\\nAll the iron turned to rust;\\nAll the proud men turned to dust.\\nAnd so all things, time will mend.\\nSo this song will end.\\n\", 'In a churchyard by a river,\\nLazing in the haze of midday,\\nLaughing in the grasses and the graze.\\nYellow bird, you are alone in singing and in flying on,\\nIn and in leaving. Willow weeping in the water,\\nWaving to the river daughters,\\nSwaying in the ripples and the reeds.\\nOn a trip to Cirrus Minor, saw a crater in the sun\\nA thousand miles of moonlight later.\\n', 'Trip to heave and ho, up down, to and fro?\\nYou have no word\\nTrip, trip to a dream dragon\\nHide your wings in a ghost tower\\nSails cackling at every plate we break\\nWas cracked by scattered needles\\nThe little minute gong\\nCoughs and clears his throat\\nMadam you see before you stand\\nHey ho, never be still\\nThe old original favorite grand\\nGrasshoppers green herbarian band\\nAnd the tune they play is \"in us confide\"\\nSo trip to heave and ho, up down, to and fro?\\nYou have no word\\nPlease leave us here\\nClose our eyes to the octopus ride!\\nIsn\\'t it good to be lost in the wood\\nIsn\\'t it bad so quiet there, in the wood\\nMeant even less to me than I thought\\nWith a honey plough of yellow prickly seeds\\nClover honey pots and mystic shining feed...\\nThe madcap laughed at the man on the border\\nHey ho, huff the talbot\\nThe winds they blew and the leaves did wag\\nThey\\'ll never put me in their bag\\nThe raging seas will always seep\\nSo high you go, so low you creep\\nThe wind it blows in tropical heat\\nThe drones they throng on mossy seats\\nThe squeaking door will always squeak\\nTwo up, two down we\\'ll never meet\\nPlease leave us here\\nClose our eyes to the octopus ride!\\nSit up, touching hips\\nTo a madcap galloping chase\\n\"cheat\" he cried shouting kangaroo\\nIt\\'s true in their tree they cried\\nPlease leave us here\\nClose our eyes to the octopus ride!\\nThe madcap laughed at the man on the border\\nHey ho, huff the talbot\\n', 'In a churchyard by a river,\\nLazing in the haze of midday,\\nLaughing in the grasses and the graze.\\nYellow bird, you are alone in singing and in flying on,\\nIn and in leaving. Willow weeping in the water,\\nWaving to the river daughters,\\nSwaying in the ripples and the reeds.\\nOn a trip to Cirrus Minor, saw a crater in the sun\\nA thousand miles of moonlight later.\\n', \"Corporal Clegg had a wooden leg\\nHe won it in the war, in 1944.\\nCorporal Clegg had a medal too\\nIn orange, red, and blue\\nHe found it in the zoo.\\nDear, dear were they really sad for me?\\nDear, dear will they really laugh at me?\\nMrs. Clegg, you must be proud of him.\\nMrs. Clegg, another drop of gin.\\nCorporal Clegg umbrella in the rain\\nHe's never been the same\\nNo one is to blame\\nCorporal Clegg recieved his medal in a dream\\nFrom Her Majesty the queen\\nHis boots were very clean.\\nMrs. Clegg, you must be proud of him\\nMrs. Clegg, another drop of gin.\\n\", \"He made his way to the border\\nIn the shadow under the trees\\nDown by a stream in a hollow\\nTurn your head feel the breeze\\nAnd the red Queen was waiting for the news\\nFor the white King to move\\nAnd the balance hung upon the head of one who tried\\nTo stay within the shadows\\nAnd keep his undercover secret tight\\nThey let him in by a backway\\nInto a chamber reserved for the Queen\\nShe took the note that he gave her\\nOpened it slowly and started to read\\nRun to the treasury and bring me back some gold\\nGive it to the pawn who came, she cried\\nHe says the white King thinks the game of chess is wrong\\nAnd all the courtiers crowded her\\nand this is what she told the gathered round\\nGo to the store by the dungeon\\nTake all the red paint take all the white\\nMake up a newborn colour\\nCover your neighbor we'll be all right\\nThere will be no game today, she cried across the board\\nEveryday will be a holiday\\nAnd all the pieces cheered as tidings spread abroad\\nAnd the Pink Queen sat\\nand smiled at the cat who smiled back\\n\", \"Corporal Clegg had a wooden leg\\nHe won it in the war, in 1944.\\nCorporal Clegg had a medal too\\nIn orange, red, and blue\\nHe found it in the zoo.\\nDear, dear were they really sad for me?\\nDear, dear will they really laugh at me?\\nMrs. Clegg, you must be proud of him.\\nMrs. Clegg, another drop of gin.\\nCorporal Clegg umbrella in the rain\\nHe's never been the same\\nNo one is to blame\\nCorporal Clegg recieved his medal in a dream From Her Majesty the queen\\nHis boots were very clean.\\nMrs. Clegg, you must be proud of him\\nMrs. Clegg, another drop of gin.\\n\", 'We smile and smile\\nWe smile and smile\\nLaughter echoes in your eyes\\nWe climb and climb\\nWe climb and climb\\nFootfall softly in the pines\\nWe cry and cry\\nWe cry and cry\\nSadness passes in a while\\nWe role and role\\nWe role and role\\nHelp me role away the stone\\n', \"The path you tread is narrow and the drop is shear and very high\\nThe ravens all are watching from a vantage point near by\\nApprehension creeping like a choo-train up your spine\\nWill the tightrope reach the end; will the final cuplet rhyme\\nAnd it's high time\\nCymbaline\\nIt's high time\\nCymbaline\\nPlease wake me Butterfly with broken wings is falling by your side\\nThe ravens all are closing in there's no where you can hide\\nYour manager and agent are both busy on the phone\\nSelling colored photographs to magazines back home\\nAnd it's high time\\nCymbaline\\nIt's high time\\nCymbaline\\nPlease wake me\\nThe lines converging where you stand they must have moved the picture plane\\nThe leaves are heavy around your feet you hear the thunder of the train\\nSuddenly it strikes you that they're moving into range\\nDoctor Strange is always changing size\\nAnd it's high time\\nCymbaline\\nIt's high time\\nCymbaline\\nPlease wake me And it's high time\\nCymbaline\\nIt's high time\\nCymbaline\\nPlease wake me\\n\", \"You gotta be crazy, you gotta have a real need\\nYou gotta sleep on your toes, and when you're on the street\\nYou gotta be able to pick out the easy meat with your eyes closed\\nAnd then moving in silently, down wind and out of sight\\nYou gotta strike when the moment is right without thinking.\\nAnd after a while, you can work on points for style\\nLike the club tie, and the firm handshake\\nA certain look in the eye, and an easy smile\\nYou have to be trusted by the people that you lie to\\nSo that when they turn their backs on you\\nYou'll get the chance to put the knife in.\\nYou gotta keep one eye looking over your shoulder\\nYou know it's going to get harder, and harder, and harder as you get older\\nAnd in the end you'll pack up, fly down south\\nHide your head in the sand\\nJust another sad old man\\nAll alone and dying of cancer.\\nAnd when you loose control, you'll reap the harvest that you've sown\\nAnd as the fear grows, the bad blood slows and turns to stone\\nAnd it's too late to loose the weight you used to need to throw around\\nSo have a good drown, as you go down, alone\\nDragged down by the stone.\\nI gotta admit that I'm a little bit confused\\nSometimes it seems to me as if I'm just being used\\nGotta stay awake, gotta try and shake off this creeping malaise\\nIf I don't stand my own ground, how can I find my way out of this maze?\\nDeaf, dumb, and blind, you just keep on pretending\\nThat everyone's expendable and no-one has a real friend\\nAnd it seems to you the thing to do would be to isolate the winner\\nAnd everythings done under the sun\\nAnd you believe at heart, everyone's a killer.\\nWho was born in a house full of pain\\nWho was trained not to spit in the fan\\nWho was told what to do by the man\\nWho was broken by trained personnel\\nWho was fitted with collar and chain\\nWho was given a pat on the back\\nWho was breaking away from the pack\\nWho was only a stranger at home\\nWho was ground down in the end\\nWho was found dead on the phone\\nWho was dragged down by the stone.\\n\", \"Ooooh Babe,\\nDon't leave me now.\\nDon't say it's the end of the road.\\nRemember the flowers I sent.\\nI need you, Babe,\\nTo put through the shredder in front of my friends.\\nOh Babe,\\nDon't leave me now.\\nHow could you go?\\nWhen you know how I need you,\\nTo beat to a pulp on a Saturday night.\\nOh Babe,\\nDon't leave me now.\\nHow can you treat me this way?\\nRunning away.\\nOh Babe,\\nWhy are you running away?\\n\", 'Overhead the albatross hangs motionless upon the air\\nAnd deep beneath the rolling waves in labyrinths of coral caves\\nThe echo of a distant tide\\nComes willowing across the sand\\nAnd everything is green and submarine\\nAnd no one showed us to the land\\nAnd no one knows the wheres or whys\\nBut something stirs and\\nSomething tries\\nAnd starts to climb towards the light\\nStrangers passing in the street\\nBy chance two separate glances meet\\nAnd I am you and what I see is me\\nAnd do I take you by the hand\\nAnd lead you through the land\\nAnd help me understand the best I can\\nAnd no one calls us to the land\\nAnd no one crosses there alive\\nAnd no one speaks\\nAnd no one tries\\nAnd no one flies around the sun\\nAnd now this is the day you fall\\nUpon my waking eyes\\nInviting and inciting me to rise\\nAnd through the window in the wall\\nComes streamin in on sunlight wings\\nA million bright ambassadors of morning\\nAnd no one sings me lullabies\\nAnd no one makes me close my eyes\\nSo I throw the windows wide\\nAnd call to you across the sky.\\n', \"All that you touch\\nAll that you see\\nAll that you taste\\nAll that you feel\\nAll that you love\\nAll that you hate\\nAll you distrust\\nAll that you save\\nAll that you give\\nAll that you deal\\nAll that you buy\\nbeg, borrow or steal\\nAll you create\\nAll you destroy\\nAll that you do\\nAll that you say\\nAll that you eat\\neveryone you meet\\nAll that you slight\\neveryone you fight\\nAll that is now\\nAll that is gone\\nAll that's to come\\nand everything under the sun is in tune\\nbut the sun is eclipsed by the moon.\\n\", \"All this love\\nIs all I am,\\nA ball is all I am.\\nI'm so new\\nCompared to you\\nAnd I am very small.\\nWarm glow,\\nMoon glow,\\nAlways need a little more room.\\nWaiting here,\\nSeems like years,\\nNever see the light of day.\\nAll around\\nI hear strange sounds\\nCome gurgling in my ear.\\nRed the light\\nAnd dark the night\\nI feel my dawn is near.\\nWarm glow,\\nMoon glow,\\nAlways need a little more room.\\nWhisper low\\nHere I go,\\nI will see the sunshine show.\\n\", \"All this love\\nIs all I am,\\nA ball is all I am.\\nI'm so new\\nCompared to you\\nAnd I am very small.\\nWarm glow,\\nMoon glow,\\nAlways need a little more room.\\nWaiting here,\\nSeems like years,\\nNever see the light of day.\\nAll around\\nI hear strange sounds\\nCome gurgling in my ear.\\nRed the light\\nAnd dark the night\\nI feel my dawn is near.\\nWarm glow,\\nMoon glow,\\nAlways need a little more room.\\nWhisper low\\nHere I go,\\nI will see the sunshine show.\\n\", \"When that fat old sun in the sky is falling,\\nSummer evening birds are calling.\\nSummer's thunder time of year,\\nThe sound of music in my ears.\\nDistant bells,\\nNew mown grass smells so sweet.\\nBy the river holding hands,\\nRoll me up and lay me down.\\nAnd if you sit,\\nDon't make a sound.\\nPick your feet up off the ground.\\nAnd if you hear as the warm night falls\\nThe silver sound from a time so strange,\\nSing to me, sing to me.\\nWhen that fat old sun in the sky is falling,\\nSummer evening birds are calling.\\nChildren's laughter in my ears,\\nThe last sunlight disappears.\\nAnd if you sit,\\nDon't make a sound.\\nPick your feet up off the ground.\\nAnd if you hear as the warm night falls\\nThe silver sound from a time so strange,\\nSing to me, sing to me.\\nWhen that fat old sun in the sky is falling,\\nSummer evening birds are calling.\\nChildren's laughter in my ears,\\nThe last sunlight disappears.\\n\", \"You say the hill's too steep to climb,\\nClimb it!\\nYou say you'd like to see me try,\\nClimb it!\\nYou pick the place and I'll choose the time\\nAnd I'll climb\\nThe hill in my own way\\njust wait a while, for the right day\\nAnd as I rise above the treeline and the clouds\\nI look down hear the sound of the things you said today\\nFearlessly the idiot faced the crowd, smiling\\nEmotionless the magistrate turns 'round, frowning\\nand who's the fool who wears the crown\\nGo down in your own way\\nAnd everyday is the right day\\nAnd as you rise above the fearlines in the frown\\nYou look down\\nHear the sound of the faces in the crowd\\n\", \"Alone in the clouds all blue\\nLying on an eiderdown.\\nYippee! You can't see me\\nBut I can you.\\nLazing in the foggy dew\\nSitting on a unicorn.\\nNo fair, you can't hear me\\nBut I can you.\\nWatching buttercups cup the light\\nSleeping on a dandelion.\\nToo much, I won't touch you\\nBut then I might.\\nScreaming through the starlit sky\\nTravelling by telephone.\\nHey ho, here we go\\nEver so high.\\nAlone in the clouds all blue\\nLying on an eiderdown.\\nYippee! You can't see me\\nBut I can you.\\n\", \"The memories of a man in his old age\\nAre the deeds of a man in his prime.\\nYou suffle in gloom in the sickroom\\nAnd talk to yourself till you die.\\nLife is a short, warm moment\\nAnd death is a long cold rest.\\nYou get your chance to try\\nIn the twinkling of an eye:\\nEighty years, with luck, or even less.\\nSo all aboard for the American tour,\\nAnd maybe you'll make it to the top.\\nAnd mind how you go.\\nI can tell you, because I know.\\nYou may find it hard to get off.\\nYou are the angel of death\\nAnd I am the dead man's son.\\nAnd he died like a mole in a fox hole.\\nAnd everyone is still in the run.\\nAnd who is the master of fox hounds?\\nAnd who says the hunt has begun?\\nAnd who calls the tune in the courtroom?\\nAnd who beats the funeral drum?\\nThe memories of a man in his old age\\nAre the deeds of a man in his prime.\\nYou suffle in gloom in the sickroom\\nAnd talk to yourself till you die.\\n\", \"Grooving around in a trench coat\\nWith the satin on trail\\nSeems to be all around in tin and lead pail, we pale\\nJiving on down to the beach\\nTo see the blue and the gray\\nSeems to be all and it's rosy-it's a beautiful day!\\nWill you please keep on the track\\n'cause I almost want you back\\n'cause I know what you are\\nYou are a gigolo aunt, you're a gigolo aunt!\\nYes I know what you are\\nYou are a gigolo aunt, you're a gigolo aunt!\\nHeading down with the light, the dust in your way\\nShe was angrier than, than her watershell male\\nLife to this love to me - heading me down to me\\nThunderbird shale\\nSeems to be all and it's rosy - it's a beautiful day!\\nWill you please keep on the track\\n'cause I almost want you back\\n'cause I know what you are\\nYou are a gigolo aunt\\nGrooving on down in a knapsack superlative day\\nSome wish she move and just as she can move jiving away\\nShe made the scene should have been-superlative day\\nEverything's all and it's rosy, it's a beautiful day\\nWill you please keep on the track\\n'cause I almost want you back\\n'cause I know what you are\\nYou are a gigolo aunt...\\n\", \"Lean out your window, golden hair\\nI heard you singing in the midnight air\\nMy book is closed, I read no more\\nWatching the fire dance, on the floor\\nI've left my book, I've left my room\\nFor I heard you singing through the gloom\\nSinging and singing, a merry air\\nLean out the window, golden hair...\\n\", \"Childs voice:\\nLook, Mummy. There's an airplane up in the sky.\\nDid you, did you see the frightened ones?\\nDid you, did you hear the falling bombs?\\nDid you ever wonder why we had to run for shelter,\\nWhen the promise of a brave new world,\\nUnfurled beneath a clear blue sky?\\nDid you, did you see the frightened ones?\\nDid you, did you hear the falling bombs?\\nThe flames are all long gone,\\nBut the pain lingers on.\\nGoodbye, blue sky.\\nGoodbye, blue sky.\\nGoodbye.\\nGoodbye.\\nMother\\nMother, do you think they'll drop the bomb?\\nMother, do you think they'll like this song?\\nMother, do you think they'll try to break my balls?\\nOoooowaa Mother, should I build a wall?\\nMother, should I run for President?\\nMother, should I trust the government?\\nMother, will they put me in the firing line?\\nOoooowaa Is it just a waste of time?\\nHush, my baby. Baby, don't you cry.\\nMomma's gonna make all of your nightmares come true.\\nMomma's gonna put all of her fears into you.\\nMomma's gonna keep you right here under her wing.\\nShe won't let you fly, but she might let you sing.\\nMomma's gonna keep Baby cozy and warm.\\nOooo Babe.\\nOooo Babe.\\nOoo Babe, of course Momma's gonna help build a wall.\\nMother, do you think she's good enough,\\nFor me?\\nMother, do you think she's dangerous,\\nTo me?\\nMother will she tear your little boy apart?\\nOoooowaa Mother, will she break my heart?\\nHush, my baby. Baby, don't you cry.\\nMomma's gonna check out all your girlfriends for you.\\nMomma won't let anyone dirty get through.\\nMomma's gonna wait up until you get in.\\nMomma will always find out where you've been.\\nMomma's gonna keep Baby healthy and clean.\\nOooo Babe.\\nOooo Babe.\\nOoo Babe, you'll always be Baby to me.\\nMother, did it need to be so high?\\n\", 'Icy wind of night, be gome.\\nThis is not your domain.\\nIn the sky a bird was heard to cry.\\nMisty morning whisperings and gentle stirring sounds\\nBelied a deathly silence that lay all around.\\nHear the lark and harken to the barking of the dog fox gone to ground.\\nSee the splashing of the kingfisher flashing to the water.\\nAnd a river of green is sliding unseen beneath the trees,\\nLaughing as it passes through the endless summer making for the sea.\\nIn the lazy water meadow\\nI lay me down.\\nAll around me,\\nGolden sunflakes settle on the ground,\\nBasking in the sunshine of a by gone afternoon,\\nBringing sounds of yesterday into this city room.\\nHear the lark and harken to the barking of the dog fox gone to ground.\\nSee the splashing of the kingfisher flashing to the water.\\nAnd a river of green is sliding unseen beneath the trees,\\nLaughing as it passes through the endless summer making for the sea.\\nIn the lazy water meadow\\nI lay me down.\\nAll around me,\\nGolden sunflakes covering the ground,\\nBasking in the sunshine of a by gone afternoon,\\nBringing sounds of yesterday into my city room.\\nHear the lark and harken to the barking of the dog fox gone to ground.\\nSee the splashing of the kingfisher flashing to the water.\\nAnd a river of green is sliding unseen beneath the trees,\\nLaughing as it passes through the endless summer making for the sea.\\n', 'Heavy hung the canopy of blue\\nShade my eyes and I can see you\\nWhite is the light that shines through the dress that you wore\\nShe lay in the shadow of the wave\\nHazy were the visions of her playing\\nSunlight on her eyes but moonshine beat her blind everytime\\nGreen is the colour of her kind\\nQuickness of the eye deceives the mind\\nMany is the bond between the hopefull and the damned\\n', \"floating down through the clouds\\nmemories come rushing up to meet me now\\nin the space between the heavens\\nand in the corner of some foreign field\\ni had a dream\\ni had a dream\\ngoodbye max\\ngoodbye ma\\nafter the service when you're walking slowly to the car\\nand the silver in her hair shines in the cold november air\\nyou hear the tolling bell\\nand touch the silk in your lapel\\nand as the tear drops rise to meet the comfort of the band\\nyou take her frail hand\\nand hold on to the dream\\na place to stay\\nenough to eat\\nsomewhere old heroes shuffle safely down the street\\nwhere you can speak out loud\\nabout your doubts and fears\\nand what's more no-one ever disappears\\nyou never hear their standard issue kicking in your door\\nyou can relax on both sides of the tracks\\nand maniacs don't blow holes in bandsmen by remote control\\nand everyone has recourse to the law\\nand no-one kills the children anymore\\nand no-one kills the children anymore\\nnight after night\\ngoing round and round my brain\\nhis dream is driving me insane\\nin the corner of some foreign field\\nthe gunner sleeps tonight\\nwhat's done is done\\nwe cannot just write off his final scene\\ntake heed of the dream\\ntake heed\\n\", \"Come in here, dear boy, have a cigar. You're gonna go far, fly high,\\nYou're never gonna die, you're gonna make it if you try;they're gonna love you.\\nWell I've always had a deep respect, and I mean that most sincerely.\\nThe band is just fantastic, that is really what I think.\\nOh by the way, which one's Pink?\\nAnd did we tell you the name of the game, boy\\nwe call it Riding the Gravy Train.\\nWe're just knocked out.\\nWe heard about the sell out.\\nYou gotta get an album out,\\nYou owe it to the people. We're so happy we can hardly count.\\nEverybody else is just green, have you seen the chart?\\nIt's a helluva start, it could be made into a monster\\nif we all pull together as a team.\\nAnd did we tell you the name of the game, boy\\nwe call it Riding the Gravy Train.\\n\", \"Come in here, dear boy, have a cigar. You're gonna go far, fly high,\\nYou're never gonna die, you're gonna make it if you try;they're gonna love you.\\nWell I've always had a deep respect, and I mean that most sincerely.\\nThe band is just fantastic, that is really what I think.Oh by the way, which one's Pink?\\nAnd did we tell you the name of the game, boy\\nwe call it Riding the Gravy Train.\\nWe're just knocked out.\\nWe heard about the sell out.\\nYou gotta get an album out,\\nYou owe it to the people. We're so happy we can hardly count.\\nEverybody else is just green, have you seen the chart?\\nIt's a helluva start, it could be made into a monsterif we all pull together as a team.\\nAnd did we tell you the name of the game, boy\\nwe call it Riding the Gravy Train.\\n\", \"Hey you ! out there in the cold\\nGetting lonely, getting old, can you feel me\\nHey you ! Standing in the aisles\\nWith itchy feet and fading smiles, can you feel me\\nHey you ! don't help them to bury the light\\nDon't give in without a fight.\\nHey you ! out there on your own\\nsitting naked by the phone would you touch me\\nHey you ! with your ear against the wall\\nWaiting for someone to call out would you touch me\\nHey you ! would you help me to carry the stone\\nOpen your heart, I'm coming home\\nBut it was only a fantasy\\nThe wall was too high as you can see\\nNo matter how he tried he could not break free\\nAnd the worms ate into his brain.\\nHey you ! out there on the road\\nDoing what you're told, can you help me\\nHey you ! out there beyond the wall\\nBreaking bottles in the hall, can you help me\\nHey you ! don't tell me there's no hope at all\\nTogether we stand, divided we fall.\\n\", \"Beyond the horizon of the place we lived when we were young\\nIn a world of magnets and miracles\\nOur thoughts strayed constantly and without boundary\\nThe ringing of the division bell had begun\\nAlong the Long Road and on down the Causeway\\nDo they still meet there by the Cut\\nThere was a ragged band that followed our footsteps\\nRunning before time took our dreams away\\nLeaving the myriad small creatures trying to tie us to the ground\\nTo a life consumed by slow decay\\nThe grass was greener\\nThe light was brighter\\nWith friends surrounded\\nThe nights of wonder\\nLooking beyond the embers of bridges glowing behind us\\nTo a glimpse of how green it was on the other side\\nSteps taken forwards but sleepwalking back again\\nDragged by force of some inner tide\\nAt a higher altitude with flag unfurled\\nWe reached the dizzy heights of that dreamed of world\\nEncumbered forever by desire and ambition\\nThere's a hunger still unsatisfied\\nOur weary eyes still stray to the horizon\\nThough down this road we've been so many times\\nThe grass was greener\\nThe light was brighter\\nThe taste was sweeter\\nThe nights of wonder\\nWith friends surrounded\\nThe dawn mist growing\\nThe water flowing\\nThe endless river\\nForever and ever\\n\", \"I'm so afraid of mistakes that I made\\nTaking every time that I wake\\nI feel like a hard-boiled butter man\\nSo give me a time when the countries will lie on the storyline if kind\\nAre days are made since the first page\\nI've lived every line that you wrote\\nTake me down, take me down, from the shelf above your head\\nSo give me a time when the countries will lie on the storyline if kind\\nAnd if I live on the shelf like the rest\\nAnd if love bleeds like a sad song\\nPlease pick-up your camera and use me again\\nSo give me a time when the countries will lie on the storyline if kind\\nYea\\n\", \"If I were a swan, I'd be gone.\\nIf I were a train, I'd be late.\\nAnd if I were a good man, I'd talk with you more often than I do.\\nIf I were to sleep, I could dream.\\nIf I were afraid, I could hide.\\nIf I go insane, please don't put your wires in my brain.\\nIf I were the moon, I'd be cool.\\nIf I were a book, I would bend.\\nIf I were a good man, I'd understand the spaces between friends.\\nIf I were alone, I would cry.\\nAnd if I were with you, I'd be home and dry.\\nAnd if I go insane, will you still let me join in with the game?\\nIf I were a swan, I'd be gone.\\nIf I were a train, I'd be late again.\\nIf I were a good man, I'd talk to you more often than I do.\\n\", \"So you thought you might like to,\\nGo to the show.\\nTo feel the warm thrill of confusion,\\nThat space cadet glow.\\nTell me is something eluding you, Sunshine?\\nIs this not what you expected to see?\\nIf you wanna find out what's behind these cold eyes,\\nYou'll just have to blow your way through this disguise.\\n\", \"So you thought you might like to,\\nGo to the show.\\nTo feel the warm thrill of confusion,\\nThat space cadet glow.\\nTell me is something eluding you, Sunshine?\\nIs this not what you expected to see?\\nIf you wanna find out what's behind these cold eyes,\\nYou'll just have to blow your way through this disguise.\\n\", \"It would be so nice\\nIt would be so nice\\nIt would be so nice\\nTo meet, sometime\\nEverybody wakes, and in the morning\\nHot tea and can't stop yawning\\nPass the butter please.\\nHave you ever read the Daily Standard?\\nReading all about the plane that's landed\\nUpside down?\\nAnd no one knows what I did today\\nThere can be no other way\\nBut I would just like to say\\nIt would be so nice\\nIt would be so nice\\nIt would be so nice\\nTo meet sometime\\nIt would be so nice\\nIt would be so nice\\nIt would be so nice\\nTo meet sometime\\nEverybody cares about the weather\\nAnd everybody should know better\\nWhat a waste of time\\nEverybody lives beneath the ceiling\\nLiving out a dream that sends them reeling\\nTo a distant place\\nBut no one knows what I did today\\nThere can be no other way\\nBut I would just like to say\\nIt would be so nice\\nIt would be so nice\\nIt would be so nice\\nTo meet sometime\\nIt would be so nice\\nIt would be so nice\\nIt would be so nice\\nTo meet sometime\\nIt would be so nice\\nIt would be so nice\\nIt would be so nice\\nTo meet sometime\\n\", \"It's awfully considerate of you to think of me here\\nAnd I'm much obliged to you for making it clear\\nThat I'm not here.\\nAnd I never knew we could be so thick\\nAnd I never knew we could be so blue\\nAnd I'm grateful that you threw away my old shoes\\nAnd brought me here instead dressed in red\\nAnd I'm wondering who could be writing this song.\\nI don't care if the sun don't shine\\nAnd I don't care if nothing is mine\\nAnd I don't care if I'm nervous with you\\nI'll do my loving in the winter.\\nAnd the sea isn't green\\nAnd I love the queen\\nAnd what exactly is a dream\\nAnd what exactly is a joke.\\n\", \"Sunlight bright upon my pillow\\nLighter than an eiderdown\\nWill she let the weeping willow\\nWind his branches round\\nJulia dream, dreamboat queen, queen of all my dreams\\nEvery night I turn the light out\\nWaiting for the velvet bride\\nWill the scaly armadillo\\nFind me where I'm hiding\\nJulia dream, dreamboat queen, queen of all my dreams\\nWill the misty master break me\\nWill the key unlock my mind\\nWill the following footsteps catch me\\nAm I really dying\\nJulia dream, dreamboat queen, queen of all my dreams\\n\", \"For millions of years mankind lived just like the animals\\nThen something happened which unleashed the power of our imagination\\nWe learned to talk\\nThere's a silence surrounding me\\nI can't seem to think straight\\nI'll sit in the corner\\nNo one can bother me\\nI think I should speak now\\nI can't seem to speak now\\nMy words won't come out right\\nI feel like I'm drowning\\nI'm feeling weak now\\nBut I can't show my weakness\\nI sometimes wonder\\nWhere do we go from here\\nIt doesn't have to be like this\\nAll we need to do is make sure we keep talking\\nWhy won't you talk to me\\nYou never talk to me\\nWhat are you thinking\\nWhat are you feeling\\nWhy won't you talk to me\\nYou never talk to me\\nWhat are you thinking\\nWhere do we go from here\\nIt doesn't have to be like this\\nAll we need to do is make sure we keep talking\\nWhy won't you talk to me\\nYou never talk to me\\nWhat are you thinking\\nWhat are you feeling\\nWhy won't you talk to me\\nYou never talk to me\\nWhat are you thinking\\nWhat are you feeling\\nI feel like I'm drowning\\nYou know I can't breathe now\\nWe're going nowhere\\nWe're going nowhere\\n\", \"Well, I'm a king bee\\nBuzzing around your hive\\nYes, I'm a king bee, child\\nBuzzing around your hive\\nI can make good honey\\nLet me come inside\\nI'm young and able\\nTo buzz all night long\\nYou know I'm young and able\\nTo buzz all night long\\nWhen you hear me buzz, little girl\\nYou know some stinging's going on\\n(well, buzz some) I'll sting (yeah)\\nWell, I'm a king bee\\nCan buzz all night long\\nYes I'm a king bee\\nCan buzz all night long\\nWell, I buzz better baby,\\nWhen your man is gone.\\n\", \"Well, I'm a King Bee\\nBuzzing around your hive\\nYes, I'm a King Bee, child\\nBuzzing around your hive\\nI can make good honey\\nLet me come inside\\nI'm young and able\\nTo buzz all night long\\nYou know I'm young and able\\nTo buzz all night long\\nWhen you hear me buzz, little girl\\nYou know some stinging's going on\\n(Well, buzz some) I'll sting (yeah)\\nWell, I'm a King Bee\\nCan buzz all night long\\nYes I'm a King Bee\\nCan buzz all night long\\nWell, I buzz better baby,\\nWhen your man is gone.\\n\", \"Well, I'm a King Bee\\nBuzzing around your hive\\nYes, I'm a King Bee, child\\nBuzzing around your hive\\nI can make good honey\\nLet me come inside\\nI'm young and able\\nTo buzz all night long\\nYou know I'm young and able\\nTo buzz all night long\\nWhen you hear me buzz, little girl\\nYou know some stinging's going on\\n(Well, buzz some) I'll sting (yeah)\\nWell, I'm a King Bee\\nCan buzz all night long\\nYes I'm a King Bee\\nCan buzz all night long\\nWell, I buzz better baby,\\nWhen your man is gone.\\n\", \"When I woke up today\\nAnd you weren't there to play\\nThen I wanted to be with you\\nWhen you showed me your eyes\\nWhispered love at the skies\\nThen I wanted to stay with you\\nInside me I feel alone and unreal\\nAnd the way you kiss will always be\\nA very special thing to me...\\nWhen I lay still at night seeing\\nStars high and light\\nThen I wanted to be with you\\nWhen the rooftops shone dark\\nAll alone (I) saw a spark\\nSpark of love just to stay with you\\nInside me I feel alone and unreal\\nAnd the way you kiss will always be\\nA very special thing to me...\\nIf I mention your name\\nTurn around on a chain\\nThen the sky opens for you\\nWhen we grew very tall\\nWhen I saw you so small\\nThen I wanted to stay with you\\nInside me I feel alone and unreal\\nAnd the way you kiss will always be\\nA very special thing to me...\\n\", \"Into the distance, a ribbon of black\\nStretched to the point of no turning back\\nA flight of fancy on a windswept field\\nStanding alone my senses reeled\\nA fatal attraction holding me fast, how\\nCan I escape this irresistible grasp?\\nCan't keep my eyes from the circling skies\\nTongue-tied and twisted Just an earth-bound misfit, I\\nIce is forming on the tips of my wings\\nUnheeded warnings, I thought I thought of everything\\nNo navigator to guide my way home\\nUnladened, empty and turned to stone\\nA soul in tension that's learning to fly\\nCondition grounded but determined to try\\nCan't keep my eyes from the circling skies\\nTongue-tied and twisted just an earth-bound misfit, I\\nAbove the planet on a wing and a prayer,\\nMy grubby halo, a vapour trail in the empty air,\\nAcross the clouds I see my shadow fly\\nOut of the corner of my watering eye\\nA dream unthreatened by the morning light\\nCould blow this soul right through the roof of the night\\nThere's no sensation to compare with this\\nSuspended animation, A state of bliss\\nCan't keep my eyes from the circling skies\\nTongue-tied and twisted just an earth-bound misfit, I\\n\", \"Far, far, far away - way\\nPeople heard him say - say\\nI will find a way - way\\nThere will come a day - day\\nSomething will be done.\\nThen at last the mighty ship\\nDescending on a point of flame\\nMade contact with the human race\\nAnd melted hearts Now, now, now is the time - time\\nTime to be - be - be awareCarter's father saw him there and\\nmade contact with the human race at Mildenhall.\\nKnew the Rhull revealed to him the\\nglowing soul of Heremond the Wake.\\nOh, my, something in my eye - eye\\nSomething in the sky - sky\\nWaiting there for me The outer rope rolls early back\\nThe service men were heard to sigh\\nFor there revealed in glowing robes\\nWas Lucy in the sky\\nOh - oh - did you ever know - know\\nNever ever will they\\nI cannot say\\nSomething in his cosmic art\\nAnd glowing slightly from his toes\\nThe psychic and the nations fly\\n\", \"Oh my girl fading in the sun\\nGo buy a candy and a currant bun\\nI'm high! Don't try to spoil the fun\\nGo cry or I'll have another one\\nOoh don't touch me child\\nPlease, you know you drive me wild\\nPlease, you know I'm feeling frail\\nOoh don't talk to me\\nPlease, just walk with me\\nPlease, you know I'm feeling frail\\nIt's true sun's shining very bright\\nIt's you I'm gonna love tonight\\nIce cream tastes good in the afternoon\\nIce cream tastes good if you eat it soon\\nOoh don't talk to me\\nPlease, you know you drive me wild\\nPlease, you know I'm feeling frail\\nOh my girl fading in the sun\\nGo buy a candy and a currant bun\\nI'm high don't try to spoil the fun\\nGo cry or I'll have another one\\n\", \"I was spending my time in the doldrums\\nI was caught in the cauldron of hate\\nI felt persecuted and paralyzed\\nI thought that everything else would just wait\\nWhile you are wasting your time on your enemies\\nEngulfed in a fever of spite\\nBeyond your tunnel vision reality fades\\nLike shadows into the night\\nTo martyr yourself to caution\\nIs not going to help at all\\nBecause there'll be no safety in numbers\\nWhen the Right One walks out of the door\\nCan you see your eyes blighted by darkness?\\nIs it true you beat your fists on the floor?\\nStuck in a world of isolation\\nWhile ivy grows over the door\\nSo I open my door to my enemies\\nAnd I ask could we wipe the slate clean\\nBut they tell me to please go fuck myself\\nYou know you just can't win\\n\", \"Lucifer Sam, siam cat.\\nAlways sitting by your side\\nAlways by your side.\\nThat cat's something I can't explain.\\nGinger, ginger, Jennifer Gentle you're a witch.\\nYou're the left side\\nHe's the right side.\\nOh, no!\\nThat cat's something I can't explain.\\nLucifer go to sea.\\nBe a hip cat, be a ship's cat.\\nSomewhere, anywhere.\\nThat cat's something I can't explain.\\nAt night prowling sifting sand.\\nHiding around on the ground.\\nHe'll be found when you're around.\\nThat cat's something I can't explain.\\n\", \"Leave, when I ask you to leave, Lucy\\nPlease, far away from me, Lucy\\nOh, go little girl\\nSeen, is (oh so) broken up about you, Lucy\\nMean, treat me and done me harm, Lucy\\nBeen, in love with you and your charms, Lucy\\nOh, go little girl\\nI'm in love with you, Lucy\\nYou got my heart\\nYou got my heart, oh no!\\nYou tear me apart\\nYou just won't let me go\\nYou hold on so tight, so tight I just can't breath\\nNow Lucy leave, Lucy\\nLeave, when I ask you to leave, little girl\\nPlease, far away from me, little girl\\nYeah! go little girl\\nSeen, is (oh so) broken up about you, Lucy\\nYeah!\\nGo.\\n\", \"Leave, when I ask you to leave, Lucy\\nPlease, far away from me, Lucy\\nOh, go little girl\\nSeen, is (oh so) broken up about you, Lucy\\nMean, treat me and done me harm, Lucy\\nBeen, in love with you and your charms, Lucy\\nOh, go little girl\\nI'm in love with you, Lucy\\nYou got my heart\\nYou got my heart, oh no!\\nYou tear me apart\\nYou just won't let me go\\nYou hold on so tight, so tight I just can't breath\\nNow Lucy leave, Lucy\\nLeave, when I ask you to leave, little girl\\nPlease, far away from me, little girl\\nYeah! go little girl\\nSeen, is (oh so) broken up about you, Lucy\\nYeah!\\nGo.\\n\", \"There was a king who ruled the land.\\nHis majesty was in command.\\nWith silver eyes the scarlet eagle\\nShowers silver on the people.\\nOh Mother, tell me more.\\nWhy'd'ya have to leave me there\\nHanging in my infant air\\nWaiting?\\nYou only have to read the lines\\nThey're scribbly black and everything shines.\\nAcross the stream with wooden shoes\\nWith bells to tell the king the news\\nA thousand misty riders climb up\\nHigher once upon a time.\\nWandering and dreaming\\nThe words have different meaning.\\nYes they did.\\nFor all the time spent in that room\\nThe doll's house, darkness, old perfume\\nAnd fairy sories held me high on\\nClouds of sunlight floating by.\\nOh Mother, tell me more\\nTell me more.\\nAaaaaaaah\\nAaaaaaaah\\nAaaaaaaah\\n\", \"Money, get away\\nGet a good job with more pay and your O.K.\\nMoney it's a gas\\nGrab that cash with both hands and make a stash\\nNew car, caviar, four star daydream,\\nThink I'll buy me a football team\\nMoney get back\\nI'm all right Jack keep your hands off my stack.\\nMoney it's a hit\\nDon't give me that do goody good bullshit\\nI'm in the hi-fidelity first class traveling set\\nAnd I think I need a Lear jet\\nMoney it's a crime\\nShare it fairly but don't take a slice of my pie\\nMoney so they say\\nIs the root of all evil today\\nBut if you ask for a rise it's no surprise that they're\\ngiving none away\\nHuHuh! I was in the right!\\nYes, absolutely in the right!\\nI certainly was in the right!\\nYou was definitely in the right. That geezer was cruising for a\\nbruising!\\nYeah!\\nWhy does anyone do anything?\\nI don't know, I was really drunk at the time!\\nI was just telling him, he couldn't get into number 2. He was asking\\nwhy he wasn't coming up on freely, after I was yelling and\\nscreaming and telling him why he wasn't coming up on freely.\\nIt came as a heavy blow, but we sorted the matter out\\n\", \"Mother, do you think they'll drop the bomb?\\nMother, do you think they'll like this song?\\nMother, do you think they'll try to break my balls?\\nOoooowaa Mother, should I build a wall?\\nMother, should I run for President?\\nMother, should I trust the government?\\nMother, will they put me in the firing line?\\nOoooowaa Is it just a waste of time?\\nHush, my baby. Baby, don't you cry.\\nMomma's gonna make all of your nightmares come true.\\nMomma's gonna put all of her fears into you.\\nMomma's gonna keep you right here under her wing.\\nShe won't let you fly, but she might let you sing.\\nMomma's gonna keep Baby cozy and warm.\\nOooo Babe.\\nOooo Babe.\\nOoo Babe, of course Momma's gonna help build a wall.\\nMother, do you think she's good enough,\\nFor me?\\nMother, do you think she's dangerous,\\nTo me?\\nMother will she tear your little boy apart?\\nOoooowaa Mother, will she break my heart?\\nHush, my baby. Baby, don't you cry.\\nMomma's gonna check out all your girlfriends for you.\\nMomma won't let anyone dirty get through.\\nMomma's gonna wait up until you get in.\\nMomma will always find out where you've been.\\nMomma's gonna keep Baby healthy and clean.\\nOooo Babe.\\nOooo Babe.\\nOoo Babe, you'll always be Baby to me.\\nMother, did it need to be so high?\\n\", 'Waving my arms in the air\\nlove, my love, got no care\\nno care, no, no, pressing my feet to the ground\\nstand up right where you stand\\ncall to you and what do you do\\nlaying back in a chair?\\nshe\\'s so high on the air\\nshe\\'s so high on the air\\nhalf and half, half and half\\nall you have to do to call\\nis hold her hand, stand a while\\nand then smile and we\\'ll understand\\nyes we do - yes, yes we do!\\nOh what a girl I\\'ve got too!\\nOh what a girl I\\'ve got too!\\nwith her slinky look she held her tie to her hair\\n(and I) could see everywhere\\nno-one in the land, no-one\\nno-one in the land, no-one\\nbut it rains on Saturday - cats and dogs in the way\\nstormy day, hey, hey\\nand you shouldn\\'t try to be\\nwhat you can\\'t be\\nand you shouldn\\'t try to be\\nwhat you can\\'t be\\ncall to you and what do you do\\nThere will be shoulders pressing in the hall\\nand I won\\'t know if you\\'re here at all\\nthere will be wine and drinking in the yard\\nthere won\\'t be anybody very hard\\nthere will be lots of things that we can do\\nand all and more will be for you\\neverything I knew I tried with you\\nbut everything to you was never easy\\nso I went ahead around my world\\nI saw the things you do arriving by your side\\nto see you looking too\\nbut I know this. I know, I never lied to you\\nit\\'s been just like you\\'re gone\\nfor just one day for so long!\\nIt\\'s been so hard to bear with you not there\\nbut though I think of you, the things you do\\nwhen I\\'m with you, to be with you,\\nto be alone...can only think:\\n\"Why I am here? What\\'s meant to be?\"\\n', \"It's no good trying to place your hand\\nWhere I can't see because I understand\\nThat you're different from me\\nYes I can tell\\nThat you can't be what you pretend\\nAnd you're rocking me backwards\\nAnd you're rocking towards the\\nRed and yellow mane of a stallion horse.\\nIt's no good trying to hold your love\\nWhere I can't see because I understand\\nThat you're different from me\\nYes I can tell\\nThat you can't be what you pretend\\nThe caterpillar hood won't cover the head of you\\nKnow you should be home in bed.\\nIt's no good holding your sequin fan\\nWhere I can't see because I understand\\nThat you're different from me\\nYes I can tell\\nThat you can't be what you pretend\\nYes you're spinning around and around in a car\\nWith electric lights flashing very fast...\\n\", \"I've got a little black book with my poems in\\nI've got a bag with a toothbrush and a comb in\\nWhen I'm a good dog they sometimes throw me a bone in\\nI got elastic bands keeping my shoes on\\nGot those swollen hand blues.\\nGot thirteen channels of shit on the T.V. to choose from\\nI've got electric light\\nAnd I've got second sight\\nI've got amazing powers of observation\\nAnd that is how I know\\nWhen I try to get through\\nOn the telephone to you\\nThere'll be nobody home\\nI've got the obligatory Hendrix perm\\nAnd I've got the inevitable pinhole burns\\nAll down the front of my favourite satin shirt\\nI've got nicotine stains on my fingers\\nI've got a silver spoon on a chain\\nI've got a grand piano to prop up my mortal remains\\nI've got wild staring eyes\\nI've got a strong urge to fly\\nBut I've got nowhere to fly to\\nOoooh Babe when I pick up the phone\\nThere's still nobody home\\nI've got a pair of Gohills boots\\nAnd I've got fading roots.\\n\", \"fuck all that we've got to get on with these\\ngot to compete with the wily japanese\\nthere's too many home fires burning\\nand not enough trees\\nso fuck all that\\nwe've got to get on with these\\ncant stop lose job mind gone silicon\\nwhat bomb get away pay day make hay\\nbreak down need fix big six\\nclickity click hold on oh no brrrrrrrrrring bingo!\\nmake em laugh make em cry make em dance in the aisles\\nmake em pay make em stay make em feel ok\\nnot now john\\nwe've got to get on with the film show\\nhollywood waits at the end of the rainbow\\nwho cares what it's all about\\nas long as the kids go\\nnot now john\\ngot to get on with the show\\nhang on john\\nwe've got to get on with this\\ni don't know what it is\\nbut it fits on here like this ...........\\ncome at the end of the shift\\nwe'll go and get pissed\\nbut not now john\\ni've got to get on with this\\nhold on john\\ni think there's something good on\\ni used to read books but ............\\nit could be the news\\nor some other abuse\\nor it could be reusable shows\\nfuck all that we've got to get on with these\\ngot to compete with the wily japanese\\nno need to worry about the vietnamese\\ngot to bring the russian bear to his knees\\nwell, maybe not the russian bear\\nmaybe the swedes\\nwe showed argentina\\nnow lets go and show these\\nmake us feel tough\\nand won't maggie be pleased\\nnah nah nah nah nah nah!\\ns'cusi dove il bar\\nse para collo pou eine toe bar\\ns'il vous plait ou est le bar\\noi' where's the fucking bar john!\\n\", 'Trip to heave and ho, up down, to and fro?\\nYou have no word\\nTrip, trip to a dream dragon\\nHide your wings in a ghost tower\\nSails cackling at every plate we break\\nCracked by scattered needles\\nThe little minute gong\\nCoughs and clears his throat\\nMadam you see before you stand\\nHey ho, never be still\\nThe old original favorite grand\\nGrasshoppers green herbarian band\\nAnd the tune they play is \"in us confide\"\\nSo trip to heave and ho, up down, to and fro?\\nYou have no word\\nPlease leave us here\\nClose our eyes to the octopus ride!\\nIsn\\'t it good to be lost in the wood\\nIsn\\'t it bad so quiet there, in the wood\\nMeant even less to me than I thought\\nWith a honey plough of yellow prickly seeds\\nClover honey pots and mystic shining feed...\\nWell, the madcap laughed at the man on the border\\nHey ho, huff the talbot\\n\"cheat\" he cried shouting kangaroo\\nIt\\'s true in their tree they cried\\nPlease leave us here\\nClose our eyes to the octopus ride!\\nThe madcap laughed at the man on the border\\nHey ho, huff the talbot\\nThe winds they blew and the leaves did wag\\nThey\\'ll never put me in their bag\\nThe seas will reach and always seep\\nSo high you go, so low you creep\\nThe wind it blows in tropical heat\\nThe drones they throng on mossy seats\\nThe squeaking door will always squeak\\nTwo up, two down we\\'ll never meet\\nSo merrily trip forgo my side\\nPlease leave us here\\nClose our eyes to the octopus ride!\\n', 'Fuck all that we\\'ve got to get on with theseGotta compete with the wily Japanese.There\\'s too many home fires burningAnd not enough trees.So fuck all thatWe\\'ve go to get on with these.\\nCan\\'t stopLose jobMind goneSiliconWhat bombGet awayPay dayMake hayBreak downNeed fixBig sixClickity clickHold onOh noBrrrrrrrrrring bingo!\\nMake \\'em laugh.Make \\'em cry.Make \\'em dance in the aisles.Make \\'em pay.Make \\'em stay.Make\\'em feel ok.\\nNot nah JohnWe\\'ve got to get on with the film show.Hollywood waits at the end of the rainbow.Who cares what it\\'s aboutAs long as the kids go\\'Not now JohnGot to get on with the show.\\nHang on John we\\'ve got to get on with this.I don\\'t know what it isBut it fits on here like.....Come at the end of the shiftWe\\'ll go and get pissed.But now now JohnI\\'ve got to get on with this.\\nHold on JohnI think there\\'s something good on.I used to read books but.....It could be the newsOr some other abuseOr it could be reusable shows.\\nFuck all that we\\'ve got to get on with theseGot to compete with the wily Japanese.No need to worry about the Vietnamese.Got to bring the Russian Bear to his knees.Well, maybe not the Russian BearMaybe the Swedes.We showed ArgentinaNow let\\'s go and show these.Make us feel toughAnd wouldn\\'t Maggie be pleased\\'Nah nah nah nah nah nah nah!\\n\"s\\'cusi dove il bar(What?)se para collo pou eine toe bars\\'il vous plait ou est le bar(...say it in English!...)oi, where\\'s the fucking bar John?(Oh, now you\\'re talking!)\"Oh! Rule Britannia! Britannia rules the dayDown!Go, Maggie!Hammer, Hammer, Hammer, Hammer, now!\\n', \"On the turning away\\nfrom the pale and downtrodden\\nand the words they say\\nwich we won't understand\\ndon't accept that what's happening\\nis just a case of others' suffering\\nor you'll find that you're joining in\\nthe turning away\\nIt's a sin that somehow\\nlight is changing to shadow\\nand casting it's shroud\\nover all we have known\\nunaware how the ranks have grown\\ndriven on by a heart of stone\\nwe could find that we're all alone\\nin the dream of the proud\\nOn the wings of the night\\nas the daytime is stirring\\nwhere the speechless unite\\nin a silent accord\\nusing words you will find are strange\\nand mesmerised as they light the flame\\nfeel the new wind of change\\non the wings of the night\\nNo more turning away\\nfrom the weak and the weary\\nno more turning away\\nfrom the coldness inside\\njust a world that we all must share\\nit's not enough just to stand and stare\\nis it only a dream that there'll be\\nno more turning away?\\n\", \"spoken in background:\\nOh my God, what a fabulous room!\\nAre all these your guitars?\\nThis place is bigger than our apartment.\\nUh, could I have a drink of water?\\nYa want some? Huh?\\nOh wow! Look at this tub!\\nWanna take a bath?\\nWhat're you watching?\\nHello?\\nAre you feeling ok?\\nDay after day,\\nOur love turns gray,\\nLike the skin on a dying man.\\nAnd night after night,\\nWe pretend it's all right,\\nBut I have grown older,\\nAnd you have grown colder,\\nAnd nothing is very much fun, anymore.\\nAnd I can feel,\\nOne of all my turns coming on.\\nI feel,\\nCold as a razor blade,\\nTight as a tourniquet,\\nDry as a funeral drum.\\nRun to the bedroom,\\nIn the suitcase on the left,\\nYou'll find my favorite axe.\\nDon't look so frightened,\\nThis is just a passing phase,\\nOne of my bad days.\\nWould you like to watch TV?\\nOr get between the sheets?\\nOr contemplate a silent freeway?\\nWould you like something to eat?\\nWould you like to learn to fly?\\nWould ya?\\nWould you like to see me try?\\nOoohh. No! Would you like to call the cops?\\nDo you think it's time I stopped?\\nWhy are you running away?\\n\", \"A restless eye across a weary room\\nA glazed look and I was on the road to ruin\\nThe music played and played as we whirled without end\\nNo hint, no word her honour to defend\\nI will, I will she sighed to my request\\nAnd then she tossed her mane while my resolve was put to the test\\nThen drowned in desire, our souls on fire\\nI lead the way to the funeral pyre\\nAnd without a thought of the consequence\\nI gave in to my decadence\\nOne slip, and down the hole we fall\\nIt seems to take no time at all\\nA momentary lapse of reason\\nThat binds a life for life\\nA small regret, you won't forget,\\nThere'll be no sleep in here tonight\\nWas it love, or was it the idea of being in love?\\nOr was it the hand of fate, that seemed to fit just like a glove?\\nThe moment slipped by and soon the seeds were sown\\nThe year grew late and neither one wanted to remain alone\\nOne slip, and down the hole we fall\\nIt seems to take no time at all\\nA momentary lapse of reason\\nThat binds a life to life\\nOne regret, you will never forget,\\nThere'll be no sleep in here tonight\\nOne slip ... one slip\\n\", \"On a distant shore, miles from land\\nStands the ebony totem in ebony sand\\nA dream in a mist of gray...\\nOn a far distant shore...\\nThe pebble that stood alone\\nAnd driftwood lies half buried\\nWarm shallow waters sweep shells\\nSo the cockles shine...\\nA bare winding carcass, stark\\nShimmers as flies scoop up meat, an empty way...\\nDry tears...\\nCrisp flax squeaks tall reeds\\nMake a circle of gray in a summer way, around man\\nStood on ground...\\nI'm trying\\nI'm trying to find you!\\nTo find you\\nI'm living, I'm giving,\\nTo find you, to find you,\\nI'm living, I'm living,\\nI'm trying, I'm giving\\n\", \"All alone, or in twos\\nThe ones who really love you\\nWalk up and down outside the wall\\nSome hand in hand\\nSome gathering together in bands\\nThe bleeding hearts and the artists\\nMake their stand\\nAnd when they've given you their all\\nSome stagger and fall after all it's not easy\\nbanging your heart against some mad buggers\\nWall\\n\", \"Last night I had too much to drink\\nSitting in a club with so many fools\\nPlaying to rules\\nTrying to impress but feeling rather empty\\nI had another drink\\nDrink - a - drink - a - drink - a - drink\\nWhat a way to spend that evening\\nThey all turn up with their friends\\nPlaying the game\\nBut in the scene I should have been\\nFar away\\nAway - away - away - away - away\\nGetting up, I feel as if I'm remembering this scene before\\nI open the door to an empty room\\nThen I forget\\nThe telephone rings and someone speaks\\nShe would very much like to go out to a show\\nSo what can I do - I can't think what to say\\nShe sees through anyway\\nAway - away - away - away - away\\nOut of the front door I go\\nTraffic's moving rather slow\\nArriving late, there she waits\\nLooking very angry, as cross as she can be\\nBe - a - be - a - be - a - be - a - be\\nGetting up, I feel as if I'm remembering this scene before\\nI open the door to an empty room\\nThen I forget\\n\", \"Sitting in a club with so many fools\\nPlaying to rules\\nTrying to impress but feeling rather empty\\nI had another drink\\nDrink - a - drink - a - drink - a - drink\\nWhat a way to spend that evening\\nThey all turn up with their friends\\nPlaying the game\\nBut in the scene I should have been\\nFar away\\nAway - away - away - away - away\\nGetting up, I feel as if I'm remembering this scene before\\nI open the door to an empty room\\nThen I forget\\nThe telephone rings and someone speaks\\nShe would very much like to go out to a show\\nSo what can I do - I can't think what to say\\nShe sees through anyway\\nAway - away - away - away - away\\nOut of the front door I go\\nTraffic's moving rather slow\\nArriving late, there she waits\\nLooking very angry, as cross as she can be\\nBe - a - be - a - be - a - be - a - be\\nGetting up, I feel as if I'm remembering this scene before\\nI open the door to an empty room\\nThen I forget\\n\", \"button your lip don't let the shield slip\\ntake a fresh grip on your bullet proof mask\\nand if they try to break down your disguise with their questions\\nyou can hide hide hide\\nbehind paranoid eyes\\nyou put on your brave face and slip over the road for a jar\\nfixing your grin as you casually lean on the bar\\nlaughing too loud at the rest of the world\\nwith the boys in the crowd\\nyou hide hide hide\\nbehind petrified eyes\\nyou believed in their stories of fame fortune and glory\\nnow you're lost in a haze of alchohol soft middle age\\nthe pie in the sky turned out to be miles too high\\nand you hide hide hide\\nbehind brown and mild eyes\\n\", 'Big man, pig man, ha ha charade you are.\\nYou well heeled big wheel, ha ha charade you are.\\nAnd when your hand is on your heart,\\nYou\\'re nearly a good laugh,Almost a joker,\\nWith your head down in the pig bin,\\nSaying \"Keep on digging.\"\\nPig stain on your fat chin.\\nWhat do you hope to find.\\nWhen you\\'re down in the pig mine.\\nYou\\'re nearly a laugh,\\nYou\\'re nearly a laugh\\nBut you\\'re really a cry.\\nBus stop rat bag, ha ha charade you are.\\nYou fucked up old hag, ha ha charade you are.\\nYou radiate cold shafts of broken glass.\\nYou\\'re nearly a good laugh,\\nAlmost worth a quick grin.\\nYou like the feel of steel,\\nYou\\'re hot stuff with a hatpin,\\nAnd good fun with a hand gun.\\nYou\\'re nearly a laugh,\\nYou\\'re nearly a laugh\\nBut you\\'re really a cry.\\nHey you, Whitehouse,\\nHa ha charade you are.\\nYou house proud town mouse,\\nHa ha charade you are\\nYou\\'re trying to keep our feelings off the street.\\nYou\\'re nearly a real treat,\\nAll tight lips and cold feet\\nAnd do you feel abused?\\nYou gotta stem the evil tide,\\nAnd keep it all on the inside.\\nMary you\\'re nearly a treat,\\nMary you\\'re nearly a treat\\nBut you\\'re really a cry.\\n', 'Big man, pig man, ha ha, charade you are\\nYou well heeled big wheel, ha ha, charade you are\\nAnd when your hand is on your heart\\nYou\\'re nearly a good laugh\\nAlmost a joker\\nWith your head down in the pig bin\\nSaying \"keep on digging\"\\nPig stain on your fat chin\\nWhat do you hope to find?\\nWhen you\\'re down in the pig mine\\nYou\\'re nearly a laugh\\nYou\\'re nearly a laugh\\nBut you\\'re really a cry.\\nBus stop rat bag, ha ha, charade you are\\nYou fucked up old hag, ha ha, charade you are\\nYou radiate cold shafts of broken glass\\nYou\\'re nearly a good laugh\\nAlmost worth a quick grin\\nYou like the feel of steel\\nYou\\'re hot stuff with a hat pin\\nAnd good fun with a hand gun\\nYou\\'re nearly a laugh\\nYou\\'re nearly a laugh\\nBut you\\'re really a cry.\\nHey you Whitehouse, ha ha, charade you are\\nYou house proud town mouse, ha ha, charade you are\\nYou\\'re trying to keep our feelings off the street\\nYou\\'re nearly a real treat\\nAll tight lips and cold feet\\nAnd do you feel abused?\\n.....!.....!.....!.....!\\nYou gotta stem the evil tide\\nAnd keep it all on the inside\\nMary you\\'re nearly a treat\\nMary you\\'re nearly a treat\\nBut you\\'re really a cry.\\n', 'Big man, pig man, ha ha, charade you are\\nYou well heeled big wheel, ha ha, charade you are\\nAnd when your hand is on your heart\\nYou\\'re nearly a good laugh\\nAlmost a joker\\nWith your head down in the pig bin\\nSaying \"keep on digging\"\\nPig stain on your fat chin\\nWhat do you hope to find?\\nWhen you\\'re down in the pig mine\\nYou\\'re nearly a laugh\\nYou\\'re nearly a laugh\\nBut you\\'re really a cry.\\nBus stop rat bag, ha ha, charade you are\\nYou fucked up old hag, ha ha, charade you are\\nYou radiate cold shafts of broken glass\\nYou\\'re nearly a good laugh\\nAlmost worth a quick grin\\nYou like the feel of steel\\nYou\\'re hot stuff with a hat pin\\nAnd good fun with a hand gun\\nYou\\'re nearly a laugh\\nYou\\'re nearly a laugh\\nBut you\\'re really a cry.\\nHey you Whitehouse, ha ha, charade you are\\nYou house proud town mouse, ha ha, charade you are\\nYou\\'re trying to keep our feelings off the street\\nYou\\'re nearly a real treat\\nAll tight lips and cold feet\\nAnd do you feel abused?\\n.....!.....!.....!.....!\\nYou gotta stem the evil tide\\nAnd keep it all on the inside\\nMary you\\'re nearly a treat\\nMary you\\'re nearly a treat\\nBut you\\'re really a cry.\\n', \"You know that I care what happens to you,\\nand I know that you care for me,\\nso I don't feel alone,\\nor the weight of the stone,\\nnow that I've found somewhere safe\\nto bury my bone.\\nAnd any fool knows a dog needs a home,\\na shelter from pigs on the wing.\\n\", 'Hey, Eugene,\\nThis is Henry McClean\\nAnd I\\'ve finished my beautiful flying machine\\nAnd I\\'m ringing to say\\nThat I\\'m leaving and maybe\\nYou\\'d like to fly with me\\nAnd hide with me, baby\\nIsn\\'t it strange\\nHow little we change\\nIsn\\'t it sad we\\'re insane\\nPlaying the games that we know and in tears\\nThe games we\\'ve been playing for thousands and thousands and ....\\nPointing to the cosmic glider\\n\"Pull this plastic glider higher\\nLight the fuse and stand right back\"\\nHe cried \"This is my last good-bye.\"\\nPoint me at the sky and tell it fly\\nPoint me at the sky and tell it fly\\nPoint me at the sky and tell it fly\\nAnd if you survive till two thousand and five\\nI hope you\\'re exceedingly thin\\nFor if you are stout you will have to breathe out\\nWhile the people around you breathe in\\nPeople pressing on might say\\nIt\\'s something that I hate to say\\nI\\'m slipping down to eat the ground\\nA little refuge on my brain\\nPoint me at the sky and tell it fly\\nPoint me at the sky and tell it fly\\nPoint me at the sky and tell it fly\\nAnd all we\\'ve got to say to you is good-bye\\nIt\\'s time to go, better run and get your bags, it\\'s good-bye\\nNobody cry, it\\'s good-bye\\nCrash, crash, crash, crash, good-bye...\\n', \"Hey, Eugene,\\nThis is Henry McClean\\nAnd I've finished my beautiful flying machine\\nAnd I'm ringing to say\\nThat I'm leaving and maybe\\nYou'd like to fly with me\\nAnd hide with me, baby\\nIsn't it strange\\nHow little we change\\nIsn't it sad we're insane\\nPlaying the games that we know and in tears\\nThe games we've been playing for thousands and thousands and ....\\nPointing to the cosmic glider\\nPull this plastic glider higher\\nLight the fuse and stand right back\\nHe cried  This is my last good-bye.\\nPoint me at the sky and tell it fly\\nPoint me at the sky and tell it fly\\nPoint me at the sky and tell it fly\\nAnd if you survive till two thousand and five\\nI hope you're exceedingly thin\\nFor if you are stout you will have to breathe out\\nWhile the people around you breathe in\\nPeople pressing on might say\\nIt's something that I hate to say\\nI'm slipping down to eat the ground\\nA little refuge on my brain\\nPoint me at the sky and tell it fly\\nPoint me at the sky and tell it fly\\nPoint me at the sky and tell it fly\\nAnd all we've got to say to you is good-bye\\nIt's time to go, better run and get your bags, it's good-bye\\nNobody cry, it's good-bye\\nCrash, crash, crash, crash, good-bye...\\n\", \"Did you know...it was all going to go so wrong for you\\nAnd did you see it was all going to be so right for me\\nWhy did we tell you then\\nYou were always the golden boy then\\nAnd that you'd never lose that light in your eyes\\nHey you...did you realize what you'd become\\nAnd did you see that it wasn't only me you were running from\\nDid you know all the time but it never bothered you anyway\\nLeading the blind while I stared out the steel in your eyes\\nThe rain fell slow, down on all the roofs of uncertainty\\nI thought of you and the years and all the sadness fell away from me\\nAnd did you know...\\nI never thought that you'd lose the light in your eyes\\n\", \"Remember a day before today\\nA day when you were young.\\nFree to play alone with time\\nEvening never came.\\nSing a song that can't be sung\\nWithout the morning's kiss\\nQueen - you shall be it if you wish\\nLook for your king\\nWhy can't we play today\\nWhy can't we stay that way\\nClimb your favorite apple tree\\nTry to catch the sun\\nHide from your little brother's gun\\nDream yourself away\\nWhy can't we reach the sun\\nWhy can't we blow the years away\\nBlow away\\nBlow away\\nRemember\\nRemember\\n\", \"You better run like hell\\nYou better make your face up in\\nYour favourite disquise\\nWith your button down lips and your\\nRoller blind eyes\\nWith your empty smiler\\nAnd your hungry heart\\nIced the bile rising from your quilty post\\nWith your nerves in tatters\\nWhen the cockleshell shattens\\nAnd the hammers batter\\nDown your door\\nYou better run like hell\\nYou better run all day\\nAnd run all night\\nAnd keeps your dirty feelings\\nDeep inside\\nIf you're taking your girlfriend\\nOut tonight,\\nYou better park the car\\nWell out of sight\\nCos if they catch you in the back seat\\nTrying to pick her locks\\nThey're gonna send you back to mother\\nIn a cardboard box\\nYou better run\\n\", \"As I reach for a peach\\nSlide a rind down behind\\nthe sofa in San Tropez\\nBreaking a stick with a brick on the sand\\nRiding a wave in the wake of an old Sedan\\nSleeping alone in the drone of the darkness\\nScratched by the sand that fell from our love\\nDeep in my dreams and I still hear her calling\\nIf you're alone I'll come home\\nBackwards and home bound\\nThe pidgeon the dove\\nGone with the wind and the rain on an airplane\\nOwning a home with no silver spoon\\nI'm drinking champaigne like a big tycoon\\nSooner than wait for a break in the weather\\nI'll gather my far flung thoughts together\\nSpeeding away on a wind to a new day\\nIf your alone I'll come home\\nAnd I pause for a while\\nBy a country style\\nAnd listen to things they say\\nDigging for gold in the hoe in my hand\\nHoping they'll take a look at the way things stand\\nAnd you're leading me down to the place by the sea\\nI hear your soft voice calling to me\\nMaking a date for later by phone\\nif you're alone I'll come home\\n\", \"Scream thy last scream old woman with a casket\\nBlam blam your pointers point your pointers\\nWhat'll be to crunch in your sisters\\nShe'll be scrubbing bubbles on all fours\\nScream thy last scream old woman with a casket\\nFling your arms madly old lady with a daughter\\nFlack chap chau fauses, mouses, houses\\nFlittin and hittin and fittin quack quack\\nWatching the teley till all hours big time\\nFling your arms madly old lady with a daughter\\nScream thy last scream old woman with a casket\\nBlam blam your pointers point your pointers\\nWhat'll be coming to crunch in your sisters\\nShe'll be scrubbing bubbles on all fours\\nScream thy last scream old woman with a casket\\n\", \"Scream thy last scream old woman with a casket\\nBlam blam your pointers point your pointers\\nWhat'll be to crunch in your sisters\\nShe'll be scrubbing bubbles on all fours\\nScream thy last scream old woman with a casket\\nFling your arms madly old lady with a daughter\\nFlack chap chau fauses, mouses, houses\\nFlittin and hittin and fittin quack quack\\nWatching the teley till all hours big time\\nFling your arms madly old lady with a daughter\\nScream thy last scream old woman with a casket\\nBlam blam your pointers point your pointers\\nWhat'll be coming to crunch in your sisters\\nShe'll be scrubbing bubbles on all fours\\nScream thy last scream old woman with a casket\\n\", \"Mighty waves come crashing down,\\nThe spray is lashing high into the eagle's eye\\nShrieking as it cuts the devil wind,\\nis calling sailors to the deep\\nBut I can hear the sound of seabirds in my ear\\nSurf is high an' the sea is awash\\nAn' a haze of candy floss, glitter and beads\\nRock that we sat on and watched in the sun\\nThat was hot to touch\\nAnd the sea was emerald green\\nI can hear the sound of seabirds in my ear\\nAnd I can see you smile\\nSurf comes rushing up the beach\\nNow will it reach the castle wall and will it fall\\nCatfish dappled silver flashing\\nDogfish puffing bubbles in my deep\\n\", \"All this love\\nIs all I am,\\nA ball is all I am.\\nI'm so new\\nCompared to you\\nAnd I am very small.\\nWarm glow,\\nMoon glow,\\nAlways need a little more room.\\nWaiting here,\\nSeems like years,\\nNever see the light of day.\\nAll around\\nI hear strange sounds\\nCome gurgling in my ear.\\nRed the light\\nAnd dark the night\\nI feel my dawn is near.\\nWarm glow,\\nMoon glow,\\nAlways need a little more room.\\nWhisper low\\nHere I go,\\nI will see the sunshine show.\\n\", \"Emily tries but misunderstands, ah ooh\\nShe often inclined to borrow somebody's dreams till tomorrow\\nThere is no other day\\nLet's try it another way\\nYou'll lose your mind and play\\nFree games for may\\nSee Emily play\\nSoon after dark Emily cries, ah ooh\\nGazing through trees in sorrow hardly a sound till tomorrow\\nThere is no other day\\nLet's try it another way\\nYou'll lose your mind and play\\nFree games for may\\nSee Emily play\\nPut on a gown that touches the ground, ah ooh\\nFloat on a river forever and ever, Emily\\nThere is no other day\\nLet's try it another way\\nYou'll lose your mind and play\\nFree games for may\\nSee Emily play\\n\", \"Emily tries but misunderstands, ah ooh\\nShe often inclined to borrow somebody's dreams till tomorrow\\nThere is no other day\\nLet's try it another way\\nYou'll lose your mind and play\\nFree games for may\\nSee Emily play\\nSoon after dark Emily cries, ah ooh\\nGazing through trees in sorrow hardly a sound till tomorrow\\nThere is no other day\\nLet's try it another way\\nYou'll lose your mind and play\\nFree games for may\\nSee Emily play\\nPut on a gown that touches the ground, ah ooh\\nFloat on a river forever and ever, Emily\\nThere is no other day\\nLet's try it another way\\nYou'll lose your mind and play\\nFree games for may\\nSee Emily play\\n\", \"Marigolds are very much in love, but he doesn't mind\\nPicking up his sister, he makes his way into the seas or land\\nAll the way she smiles\\nShe goes up while he goes down, down\\nSits on a stick in the river\\nLaughter in his sleep\\nSister's throwing stones, hoping for a hit\\nHe doesn't know so then\\nShe goes up while he goes down, down\\nAnother time, another day\\nA brother's way to leave\\nAnother time, another day She'll be selling plastic flowers on a Sundayafternoon Picking up weeds, she hasn't got the time to care\\nAll can see he's not there\\nShe grows up for another man, and he's down\\nAnother time, another day\\nA brother's way to leave\\nAnother time, another day\\nAnother time, another day\\nA brother's way to leave\\n\", \"Little by little the night turns around\\nCounting the leaves which tremble at dawn\\nNovices lean on each other in yearning\\nUnder the leaves the swallow is resting\\nSet the controls for the heart of the sun\\nOver the mountain watching the watcher\\nBreaking the darkness waking the grapevine\\nOne inch of love is one inch of shadow\\nLove is the shadow that ripen's the wine\\nSet the controls for the heart of the sun\\nThe heart of the sun\\nThe heart of the sun\\nWitness the man who raves at the wall\\nMaking the shape of his question to heaven\\nWhether the sun will fall in the evening\\nWill he remember the lesson of giving\\nSet the controls for the heart of the sun\\nThe heart of the sun\\nThe heart of the sun\\n\", \"Aye an? a bit of mackeral settler rack and ruin\\nRan it doon by the haim, ?ma place\\nWell I slapped me and I slapped it doon in the side\\nAnd I cried, cried, cried.\\nThe fear a fallen down taken never back the raize and then craig marion,\\nGet out wI' ye claymore out mi pocket a? ran doon, doon the middin stain\\nPicking the fiery horde that was fallen around ma feet.\\nNever he cried, never shall it ye get me alive\\nYe rotten hound of the burnie crew. well I snatched fer the blade o my\\nClaymore cut and thrust and I fell doon before him round his feet.\\nAye! a roar he cried frae the bottom of his heart that I would nay fall\\nBut as dead, dead as ?a can be by his feet; de ya ken?\\n...and the wind cried back.\\n[in english] thank you.\\n\", \"Harmlessly passing your time in the grassland away\\nOnly dimly aware of a certain unease in the air\\nYou better watch out\\nThere may be dogs about\\nI've looked over Jordan and I have seen\\nThings are not what they seem.\\nWhat do you get for pretending the danger's not real\\nMeek and obedient you follow the leader\\nDown well trodden corridors into the valley of steel\\nWhat a surprise!\\nA look of terminal shock in your eyes\\nNow things are really what they seem\\nNo, this is no bad dream.\\nThe Lord is my shepherd, I shall not want\\nHe makes me down to lie\\nThrough pastures green he leadeth me the silent waters by\\nWith bright knives he releaseth my soul\\nHe maketh me to hang on hooks in high places\\nHe converteth me to lamb cutlets\\nFor lo,m he hath great power and great hunger\\nWhen cometh the day we lowly ones\\nThrough quiet reflection and great dedication\\nMaster the art of karate\\nLo, we shall rise up\\nAnd then we'll make the bugger's eyes water.\\nBlasting and bubbling I fell on his neck with a scream\\nWave upon wave of demented avengers\\nMarch cheerfully out of obscurity into the dream.\\nHave you heard the news?\\nThe dogs are dead!\\nYou better stay home\\nAnd do as you're told\\nGet out of the road if you want to grow old.\\n\", \"Remember when you were young, you shone like the sun.\\nShine on you crazy diamond.\\nNow there's a look in your eyes, like black holes in the sky.\\nShine on you crazy diamond.\\nYou were caught on the cross fire of childhood and stardom,\\nblown on the steel breeze.\\nCome on you target for faraway laughter, come on you stranger,\\nyou legend, you martyr, and shine!\\nYou reached for the secret too soon, you cried for the moon.\\nShine on you crazy diamond.\\nThreatened by shadows at night, and exposed in the light.\\nShine on you crazy diamond.\\nWell you wore out your welcome with random precision,\\nrode on the steel breeze.\\nCome on you raver, you seer of visions, come on you painter,\\nyou piper, you prisoner, and shine!\\n\", \"The sweet smell of a great sorrow lies over the land\\nplumes of smoke rise and merge into the leaden sky:\\na man lies and dreams of green fields and rivers\\nbut awakes to a morning with no reason for waking\\nHe's haunted by the memory of a lost paradise\\nin his youth or a dream, he can't be precise\\nhe's chained forever to a world that's departed\\nIt's not enough, It's not enough\\nHis blood has frozen   curled with fright\\nhis knees have trembled   given way in the night\\nhis hand has weakened at the moment of truth\\nhis step has faltered\\nOne world, one soul\\nTime pass, the river roll\\nAnd he talks to the river of lost love and dedication\\nand silent replies that swirl invitation\\nflow dark and troubled to any oily sea\\na grim intimation of what is to be\\nThere's an unceasing wind that blows through this night\\nand there's dust in my eyes, that blinds my sight\\nand silence that speaks so much louder than words\\nof promises broken.\\n\", 'they disembarked in 45\\nand no one spoke and no one smiled\\nthere were too many spaces in the line\\ngathered at the cenotaph\\nall agreed with hand on heart\\nto sheath the sacrificial knifes\\nbut now\\nshe stands upon southampton dock\\nwith her handkerchief\\nand her summer frock clings\\nto her wet body in the rain\\nin quiet desperation knuckles\\nwhite upon the slippery reins\\nshe bravely waves the boys goodbye again\\nand still the dark stain spreads between\\nhis shoulder blades\\na mute reminder of the poppy fields and graves\\nand when the fight was over\\nwe spent what they had made\\nbut in the bottom of our hearts\\nwe felt the final cut\\n', \"Stay and help me to end the day.\\nAnd of you don't mind,\\nWe'll break a bottle of wine.\\nStick around and maybe we'll put one down,\\nBecause I wanna find what lies behind those eyes.\\nMidnight blue burning gold.\\nA yellow moon is growing cold.\\nI rise, looking through my morning eyes,\\nSurprised to find you by my side.\\nRack my brain to try to remember your name\\nTo find the words to tell you goodbye.\\nMorning dues.\\nNewborn day.\\nMidnight blue turn to gray.\\nMidnight blue burning gold.\\nA yellow moon is growing cold.\\n\", \"Would you like to say something before you leave?\\nPerhaps you'd care to state exactly how you feel.\\nWe say goodbye before we've said hello.\\nI hardly even like you.\\nI shouldn't care at all.\\nWe met just six hours ago.\\nThe music was too loud.\\nFrom your bed I came today and lost a bloody year.\\nAnd I would like to know, how do you feel?\\nHow do you feel?\\nNot a single word was said.\\nThey lied still without fears.\\nOccasionally you showed a smile, but what was the need?\\nI felt the cold far too soon in a wind of ninetyfive.\\nMy friends are lying in the sun, I wish I was there.\\nTomorrow brings another town, another girl like you.\\nHave you time before you leave to greet another man\\nJust to let me know, how do you feel?\\nHow do you feel?\\nGoodbye to you.\\nChildish bangles too.\\nI've had enough for one day.\\n\", \"Swan lee got up at the running foot pow-wow,\\nHeading from the fire to his waiting canoe.\\nChattering squaw untied the wigwam door,\\nThe chief blew smoke rings two by two!\\nThe land in silence stands...\\nSwan lee, his boat by the bank in the darkness,\\nLoosened the rope in the creek is entwined.\\nA feather from the wing of a wild young eagle,\\nPointed to the land where his fortune he'd find\\nThe land in silence stands\\nSwan lee paddled on from the land of his fathers,\\nHis eyes scanned the undergrowth on either side.\\nFrom the shore hung a hot, heavy, creature infested\\nTropic, swan lee had a bow by his side\\nThe land in silence stands\\nSwan lee kept time, half on land, half on water,\\nGrizzly bear and raccoon his fare.\\nHe followed his ears to the great water fall,\\nSwan lee knew deep down that his squaw was there!\\nThe land in silence stands....\\nSuddenly the rush of the mighty great thunder,\\nConfronted swan lee as his song he sang,\\nIn the dawn, with his squaw, he was battling homewards\\nIt was all written down by long silas lang.\\nThe land in silence stands...\\nThe land in silence stands...\\nThe land in silence stands.\\n\", \"Swan Lee got up at the Running Foot pow-wow,\\nheading from the fire to his waiting canoe.\\nChattering Squaw untied the wigwam door,\\nthe chief blew smoke rings two by two!\\nThe land in silence stands...\\nSwan Lee, his boat by the bank in the darkness,\\nloosened the rope in the creek is entwined.\\nA feather from the wing of a wild young eagle,\\npointed to the land where his fortune he'd find\\nThe land in silence stands\\nSwan Lee paddled on from the land of his fathers,\\nhis eyes scanned the undergrowth on either side.\\nFrom the shore hung a hot, heavy, creature infested\\ntropic, Swan Lee had a bow by his side\\nThe land in silence stands\\nSwan Lee kept time, half on land, half on water,\\nGrizzly bear and raccoon his fare.\\nHe followed his ears to the great water fall,\\nSwan Lee knew deep down that his squaw was there!\\nThe land in silence stands....\\nSuddenly the rush of the mighty great thunder,\\nconfronted Swan Lee as his song he sang,\\nIn the dawn, with his squaw, he was battling homewards\\nIt was all written down by Long Silas Lang.\\nThe land in silence stands...\\nThe land in silence stands...\\nThe land in silence stands.\\n\", \"Her love rains down on me easy as the breeze\\nI listen to her breathing it sounds like the waves on the sea\\nI was thinking all about her, burning with rage and desire\\nWe were spinning into darkness; the earth was on fire\\nShe could take it back, she might take it back someday\\nSo I spy on her, I lie to her, I make promises I cannot keep\\nThen I hear her laughter rising, rising from the deep\\nAnd I make her prove her love for me, I take all that I can take\\nAnd I push her to the limit to see if she will break\\nShe might take it back, she could take it back some day\\nNow I have seen the warnings, screaming from all sides\\nIt's easy to ignore them and G-d knows I've tried\\nAll this temptation, it turned my faith to lies\\nUntil I couldn't see the danger or hear the rising tide\\nShe can take it back, she will take it back some day\\nShe can take it back, she will take it back some day\\nShe can take it back, she will take it back some day\\n\", \"Doctor doctor!\\nI'm in bed\\nAchin? head\\nGold is lead\\nChoke on bread\\nUnderfed\\nGold is lead\\nJesus bled\\nPain is red\\nAre goon\\nGrow go\\nGreasy spoon\\nYou swoon\\nJune bloom\\nMusic seems to help the pain\\nSeems to cultivate the brain.\\nDoctor kindly tell your wife that\\nI'm alive - flowers thrive - realize - realize\\nRealize.\\n\", \"Dogs of war and men of hate\\nwith no cause, we don't discriminate\\ndiscovery is to be disowned\\nour currency is flesh and bone\\nhell opened up and put on sale\\ngather round and haggle\\nfor hard cash, we will lie and deceive\\neven our masters don't know the webs we heave\\none world, it's a battleground\\none world, and we will smash it down\\none world...one world\\nInvisible transfers, long distance calls\\nhollow laughter in marble halls\\nsteps have been taken, a silent uproar\\nhas unleashed the dogs of war\\nyou can't stop what has begun\\nsigned, sealed, they deliver oblivion\\nwe all have a dark side, to say the least\\nand dealing in death is the nature of the beast\\none world, it's a battleground\\none world, and we will smash it down\\none world...one world\\nThe dogs of war don't negotiate\\nthe dogs of war won't capitulate\\nthey will take and you will give\\nand you must die so that they may live\\nyou can knock at any door\\nbut wherever you go, you know they've been there before\\nwell winners can lose and things can get strained\\nbut whatever you change, you know the dogs remain\\none world, it's a battleground\\none world, and we will smash it down\\none world...one world\\n\", \"through the fish eyed lens of tear stained eyes\\ni can barely define the shape of this moment in time\\nand far from flying high in clear blue skies\\ni'm spiralling down to the hole in the ground where i hide\\nif you negotiate the minefield in the drive\\nand beat the dogs and cheat the cold electronic eyes\\nand if you make it past the shotgun in the hall\\ndial the combination. open the priesthole\\nand if i'm in i'll tell you what's behind the wall\\nthere's a kid who had a big hallucination\\nmaking love to girls in magazines\\nhe wonders if you're sleeping with your new found faith\\ncould anybody love him\\nor is it just a crazy dream\\nand if i show you my dark side\\nwill you still hold me tonight\\nand if i open my heart to you\\nand show you my weak side\\nwhat would you do\\nwould you sell your story to rolling stone\\nwould you take the children away\\nand leave me alone\\nand smile in reassurance\\nas you whisper down the phone\\nwould you send me packing\\nor would you take me home\\nthought i oughta bare my naked feelings\\nthought i oughta tear the curtain down\\ni held the blade in trembling hands\\nprepared to make it but just then the phone rang\\ni never had the nerve to make the final cut\\n\", \"take all your overgrown infants away somewhere\\nand build them a home a little place of their own\\nthe fletcher memorial\\nhome for incurable tyrants and kings\\nand they can appear to themselves every day\\non closed circuit t.v.\\nto make sure they're still real\\nit's the only connection they feel\\nladies and gentlemen, please welcome reagan and haig\\nmr. begin and friend mrs. thatcher and paisley\\nmr. brezhnev and party\\nthe ghost of mccarthy\\nthe memories of nixon\\nand now adding colour a group of anonymous latin\\namerican meat packing glitterati\\ndid they expect us to treat them with any respect\\nthey can polish their medals and sharpen their\\nsmiles, and amuse themselves playing games for a while\\nboom boom, bang bang, lie down you're dead\\nsafe in the permanent gaze of a cold glass eye\\nwith their favourite toys\\nthey'll be good girls and boys\\nin the fletcher memorial home for colonial\\nwasters of life and limb\\nis everyone in?\\nare you having a nice time?\\nnow the final solution can be applied\\n\", \"I want to tell you a story\\nAbout a little man\\nIf I can.\\nA gnome named Grimble Grumble.\\nAnd little gnomes stay in their homes.\\nEating, sleeping, drinking their wine.\\nHe wore a scarlet tunic,\\nA blue green hood,\\nIt looked quite good.\\nHe had a big adventure\\nAmidst the grass\\nFresh air at last.\\nWining, dining, biding his time.\\nAnd then one day - hooray!\\nAnother way for gnomes to say\\nHoooooooooray.\\nLook at the sky, look at the river\\nIsn't it good?\\nLook at the sky, look at the river\\nIsn't it good?\\nWinding, finding places to go.\\nAnd then one day - hooray!\\nAnother way for gnomes to say\\nHoooooooooray.\\nHooooooooooooooray.\\n\", \"Come on, my friends,\\nLet's make for the hills.\\nThey say there's gold but I'm looking for thrills.\\nYou can get your hands on whatever we find,\\nBecause I'm only coming along for the ride.\\nWell, you go your way,\\nI'll go mine.\\nI don't care if we get there on time.\\nEverybody's searching for something, they say.\\nI'll get my kicks on the way.\\nOver the mountains, across the seas\\nWho knows what will be waiting for me?\\nI could sail forever to strange sounding names.\\nFaces of people and places don't change.\\nAll I have to do is just close my eyes\\nTo see the seagulls wheeling on those far distant skies.\\nAll I want to tell you, all I want to say\\nIs count me in on the journey.\\nDon't expect me to stay.\\n\", 'When we grew up and went to school\\nThere were certain teachers\\nWho would hurt the children any way they could\\n\"Ooof\" (someone being hit)\\nBy pouring their derision\\nUpon anything we did\\nExposing every weakness\\nHowever carefully hidden by the kids\\n(mananical laughter)\\nBut in the town it was well known\\nWhen they got home at night\\nTheir fat and psychopathic wives would thrash them\\nWithin inches of their lives\\n', \"Jesus Jesus what's it all about\\ntrying to clout these little ingrates into shape\\nwhen i was their age all the lights went out\\nthere was no time to whine and mope about\\nand even now part of me flies over\\ndresden at angels one five\\nthough they'll never fathom it behind my\\nsarcasm desperate memories lie\\nsweetheart sweetheart are you fast asleep, good\\n'cos that's the only time that i can really talk to you\\nand there is something that i've locked away\\na memory that is too painful\\nto withstand the light of day\\nwhen we came back from the war the banners and\\nflags hung on everyones door\\nwe danced and we sang in the street and\\nthe church bells rang\\nbut burning in my heart\\nmy memory smoulders on\\nof the gunners dying words on the intercom\\n\", \"Following the path as it leads towards the Darkness in the North\\nWeary strangers' faces show their sympathy\\nThey've seen that hope before\\nAnd if you want to stay for a little bit\\nRest your aching limbs for a little bit\\nBefore you the night is beckoning\\nAnd you know you can't delay\\nYou hear the night birds calling you\\nBut you can't touch the restless sky\\nClose your aching eyes beyond your name\\nMist is swelling, creatures crawling,\\nHear the roar get louder in your ears\\nYou know the folly was your own\\nBut the force behind can't conquer all your fears\\nAnd if you want to stay for a little bit\\nRest your aching limbs for a little bit\\nBefore you the night is beckoning\\nAnd you know you can't delay\\nYou hear the night birds calling you\\nBut you can't touch the restless sky\\nClose your aching eyes beyond your name\\nThrow your thoughts back many years\\nTo the time when there was life in every morning\\nPerhaps a day will come\\nWhen the nights will be as on that morning\\nAnd if you want to stay for a little bit\\nRest your aching limbs for a little bit\\nBefore you the night is beckoning\\nAnd you know you can't delay\\nYou hear the night birds calling you\\nBut you can't touch the restless sky\\nClose your aching eyes beyond your name\\nRest your weary head, be on your way.\\n\", \"The Narrow Way Part 3\\nFollowing the path as it leads towards the Darkness in the North\\nWeary strangers' faces show their sympathy\\nThey've seen that hope before\\nAnd if you want to stay for a little bit\\nRest your aching limbs for a little bit\\nBefore you the night is beckoning\\nAnd you know you can't delay\\nYou hear the night birds calling you\\nBut you can't touch the words they sing\\nClose your aching eyes beyond your name\\nMist is swelling, creatures crawling,\\nHear the roar get louder in your ears\\nYou know the folly was your own\\nBut the force behind can't conquer all your fears\\nAnd if you want to stay for a little bit\\nRest your aching limbs for a little bit\\nBefore you the night is beckoning\\nAnd you know you can't delay\\nYou hear the night birds calling you\\nBut you can't touch the restless sky\\nClose your aging eyes beyond your name\\nThrow your thoughts back many years\\nTo the time when there was life in every morning\\nPerhaps a day will come\\nWhen the nights will be as clear as on that morning\\nAnd if you want to stay for a little bit\\nRest your aching limbs for a little bit\\nBefore you the night is beckoning\\nAnd you know you can't delay\\nYou hear the night birds calling you\\nBut you can't touch the words they sing\\nClose your aging eyes beyond your name\\n\", 'I was standing by the Nile\\nWhe I saw the lady smile.\\nI would take her out for a while,\\nFor a while. Light tears wept like a child.\\nHow her golden hair was blowing wild.\\nThen she spread her wings to fly,\\nFor to fly. Soaring high above the breezes,\\nGoing always where she pleases.\\nShe will make it to the island in the sun.\\nI will follw in her shadow\\nAs I watch her from my window.\\nOne day I will catch her eye. She is calling from the deep,\\nSummoning my soul to endless sleep.\\nShe is bound to drag me down,\\nDrag me down.\\n', \"tell me true tell me why was Jesus crucified\\nis it for this that daddy died?\\nwas it for you? was it me?\\ndid i watch too much t.v.?\\nis that a hint of accusation in your eyes?\\nif it wasn't for the nips\\nbeing so good at building ships\\nthe yards would still be open on the clyde\\nand it can't be much fun for them\\nbeneath the rising sun\\nwith all their kids committing suicide\\nwhat have we done maggie what have we done\\nwhat have we done to england\\nshould we shout should we scream\\nwhat happened to the post war dream?\\noh maggie maggie what have we done?\\n\", \"The black and green scarecrow as everyone knows\\nStood with a bird on his hat and straw everywhere.\\nHe didn't care.\\nHe stood in a field where barley grows.\\nHis head did no thinking\\nHis arms didn't move except then the wind cut up\\nRough and mice ran around on the ground\\nHe stood in a field where barley grows.\\nThe black and green scarecrow is sadder than me\\nBut now he's resigned to his fate\\n'cause life's not unkind - he doesn't mind.\\nHe stood in a field where barley grows.\\n\", \"Oooh Ma Oooh Pa\\nMust the show go on\\nOooh Pa take me home\\nOooh Ma let me go\\nThere must be some mistake\\nI didn't mean to let them\\nTake away my soul\\nAm I too old is it too late\\nOooh Ma Oooh Pa\\nWhere has the feeling gone?\\nOooh Ma Oooh Pa\\nWill I remember the songs?\\nOooooh aah the show must go on.\\n\", \"Momma loves her baby,\\nAnd Daddy loves you, too.\\nAnd the sea may look warm to ya, Babe,\\nAnd the sky may look blue.\\nOooooo Babe.\\nOooooooo Baby Blue.\\nOooooo Ooohh Babe.\\nIf you should go skating,\\nOn the thin ice of modern life,\\nDragging behind you the silent reproach,\\nOf a million tear-stained eyes,\\nDon't be surprised when a crack in the ice,\\nAppears under your feet.\\nYou slip out of your depth and out of your mind,\\nWith your fear flowing out from behind,\\nYou as you claw the ice.\\n\", 'Good morning Worm your honour\\nThe crowd will plainly show\\nThe prisoner who now stands before you\\nWas caught red handed showing feelings\\nShowing feelings of an almost human nature\\nThis will not do\\nCALL THE SCHOOLMASTER\\nI always said he\\'d come to no good\\nIn the end your honour\\nIf they\\'d let me have my way I could\\nHave flayed him into shape\\nBut my hands were tied\\nThe bleeding hearts and artists\\nLet him get away with murder\\nLet me hammer him today\\nCrazy toys in the attic I am crazy\\nTruly gone fishing\\nThey must have taken my marbles away\\nCrazy toys in the attic he is crazy\\nYou little shit, you\\'re in it now\\nI hope they throw away the key\\nYou should talked to me more often\\nThan you did, but no you had to\\nGo your own way. Have you broken any homes up lately?\\n\"Just five minutes Worm your honour him and me alone\"\\nBaaaaaabe\\nCome to mother baby let me hold you in my arms\\nM\\'red I never wanted him to get in any trouble\\nWhy\\'d he ever have to leave me\\nWorm your honour let me take him home\\nCrazy over the rainbow I am crazy\\nBars in the window\\nThere must have been a door there in the wall\\nWhen I came in\\nCrazy over the rainbow he is crazy\\nThe evidence before the court is\\nIncontrovertible, there\\'s no need for\\nThe jury to retire\\nIn all my years of judging\\nI have never heard before of\\nSome one more deserving\\nThe full penalty of law\\nThe way you made them suffer\\nYour exquisite wife and mother\\nFills me with an urge to defecate\\nSince my friend you have revealed your deepest fear\\nI sentence you to be exposed before your peers\\nTear down the wall\\n', \"in my rear view mirror the sun is going down\\nsinking behind bridges in the road\\nand i think of all the good things\\nthat we have left undone\\nand i suffer premonitions\\nconfirm suspicions\\nof the holocaust to come\\nthe wire that holds the cork\\nthat keeps the anger in\\ngives way\\nand suddenly it's day again\\nthe sun is in the east\\neven though the day is done\\ntwo suns in the sunset\\nhmmmmmmmmm\\ncould be the human race is run\\nlike the moment when your brakes lock\\nand you slide toward the big truck\\nand stretch the frozen moments with your fear\\nand you'll never hear their voices\\nand you'll never see their faces\\nyou have no recourse to the law anymore\\nand as the windshield melts\\nmy tears evaporate\\nleaving only charcoal to defend\\nfinally i understand\\nthe feelings of the few\\nashes and diamonds\\nfoe and friend\\nwe were all equal in the end\\n\", \"Us and them\\nand after all we're only ordinary men\\nme and you\\nGod only knows it's not what we would choose to do\\nforward he cried from the rear\\nand the front rank died\\nand the General sat, when the lines on the map\\nmoved from side to side\\nBlack and blue\\nand who knows which is which and who is who\\nup and down\\nand in the end it's only round and round and round\\nhaven't you heard it's a battle of words\\nthe poster bearer cried\\nlisten, son, said the man with the gun\\nthere's room for you inside\\nDown and out\\nit can't be helped but there's a lot of it about\\nwith, without\\nand who'll deny it's what the fighting's all about\\nout of the way, it's been  a busy day\\nI've got things on my mind\\nfor want of the price of tea and a slice\\nthe old man died\\n\", \"In yellow shoes I get the blues\\nThough I walk the streets with my plastic feet\\nWith my blue velvet trousers, make me feel pink\\nThere's a kind of stink about blue velvet trousers\\nIn my paisley shirt I look a jerk\\nAnd my turquoise waistcoat is quite out of sight\\nBut oh oh my haircut looks so bad\\nVegetable man how are you?\\nSo I've changed my dear, and I find my knees,\\nAnd I covered them up with the latest cut,\\nAnd my pants and socks all point in a box,\\nThey don't make long of my nylon socks,\\nThe watch, black watch\\nMy watch with a black face\\nAnd a big pin, a little hole,\\nAnd all the lot is what I got,\\nIt's what I wear, it's what you see,\\nIt must be me, it's what I am,\\nVegetable man.\\nI've been looking all over the place for a place for me,\\nBut it ain't anywhere, it just ain't anywhere.\\nVegetable man, vegetable man,\\nHe's the kind of person, you just gonna see him if you can,\\nVegetable man.\\n\", \"In yellow shoes I get the blues\\nThough I walk the streets with my plastic feet\\nWith my blue velvet trousers, make me feel pink\\nThere's a kind of stink about blue velvet trousers\\nIn my paisley shirt I look a jerk\\nAnd my turquoise waistcoat is quite out of sight\\nBut oh oh my haircut looks so bad\\nVegetable man how are you?\\nSo I've changed my dear, and I find my knees,\\nAnd I covered them up with the latest cut,\\nAnd my pants and socks all point in a box,\\nThey don't make long of my nylon socks,\\nThe watch, black watch\\nMy watch with a black face\\nAnd a big pin, a little hole,\\nAnd all the lot is what I got,\\nIt's what I wear, it's what you see,\\nIt must be me, it's what I am,\\nVegetable man.\\nI've been looking all over the place for a place for me,\\nBut it ain't anywhere, it just ain't anywhere.\\nVegetable man, vegetable man,\\nHe's the kind of person, you just gonna see him if you can,\\nVegetable man.\\n\", 'Does anybody here remember Vera Lynn\\nRemember how she said that\\nWe would meet again\\nSome sunny day\\nVera! Vera!\\nWhat has become of you\\nDoes anybody else in here\\nFeel the way I do ?\\n', \"Ooooh you cannot reach me now\\nOoooh no matter how you try\\nGoodbye cruel world it's over\\nWalk on by\\nSitting in a bunker here behind my wall\\nWaiting for the worms to come\\nIn perfect isolation here behind my wall\\nWaiting for the worms to come\\nWaiting to cut out the deadwood\\nWaiting to clean up the city\\nWaiting to follow the worms\\nWaiting to put on a black shirt\\nWaiting to weed out the weaklings\\nWaiting to smash in their windows\\nAnd kick in their doors\\nWaiting for the final solution\\nTo strengthen the strain\\nWaiting to follow the worms\\nWaiting to turn on the showers v And fire the ovens\\nWaiting for the queers and the coons\\nAnd the reds and the Jews\\nWaiting to follow the worms\\nWould you like to see Britannia\\nRule again my friend\\nAll you have to do is follow the worms\\nWould you like to send our coloured cousins\\nHome again my friend\\nAll you need to do is follow the worms.\\n\", \"From morning to night I stayed out of sight\\nDidn't recognize I'd become\\nNo more than alive I'd barely survive\\nIn a word...overrun\\nWon't hear a sound\\nFrom my mouth\\nI've spent too long\\nOn the inside out\\nMy skin is cold\\nTo the human touch\\nThis bleeding heart's\\nNot beating much\\nI murmured a vow of silence and now\\nI don't even hear when I think aloud\\nExtinguished by light I turn on the night\\nWear its darkness with an empty smile\\nI'm creeping back to life\\nMy nervous system all awry\\nI'm wearing the inside out\\nLook at him now\\nHe's paler somehow\\nBut he's coming round\\nHe's starting to choke\\nIt's been so long since he spoke\\nWell he can have the words right from my mouth\\nAnd with these words I can see\\nClear through the clouds that covered me\\nJust give it time then speak my name\\nNow we can hear ourselves again\\nI'm holding out\\nFor the day\\nWhen all the clouds\\nHave blown away\\nI'm with you now\\nCan speak your name\\nNow we can hear\\nOurselves again\\n\", \"Welcome my son, welcome to the machine.\\nWhere have you been? It's alright we know where you've been.\\nYou've been in the pipeline, filling in time,\\nprovided with toys and Scouting for Boys.\\nYou bought a guitar to punish your ma,\\nAnd you didn't like school, and you know you're nobody's fool,\\nSo welcome to the machine.\\nWelcome my son, welcome to the machine.\\nWhat did you dream? It's alright we told you what to dream.\\nYou dreamed of a big star, he played a mean guitar,\\nHe always ate in the Steak Bar. He loved to drive in his Jaguar.\\nSo welcome to the machine.\\n\", \"As you look around this room tonight\\nSettle in your seat and dim the lights\\nDo you want my blood, do you want my tears\\nWhat do you want\\nWhat do you want from me\\nShould I sing until I can't sing any more\\nPlay these strings until my fingers are raw\\nYou're so hard to please\\nWhat do you want from me\\nDo you think that I know something you don't know\\nWhat do you want from me\\nIf I don't promise you the answers would you go\\nWhat do you want from me\\nShould I stand out in the rain\\nDo you want me to make a daisy chain for you\\nI'm not the one you need\\nWhat do you want from me\\nYou can have anything you want\\nYou can drift, you can dream, even walk on water\\nAnything you want\\nYou can own everything you see\\nSell your soul for complete control\\nIs that really what you need\\nYou can lose yourself this night\\nSee inside there is nothing to hide\\nTurn and face the light\\nWhat do you want from me\\n\", 'What shall we use to fill the empty spaces\\nWhere waves of hunger roar?\\nShall we set out across the sea of faces\\nIn search of more and more applause?\\nShall we buy a new guitar?\\nShall we drive a more powerful car?\\nShall we work straight through the night?\\nShall we get into fights?\\nLeave the lights on?\\nDrop bombs?\\nDo tours of the east?\\ncontract diseases?\\nBury bones?\\nBreak up homes?\\nSend flowers by phone?\\nTake to drink?\\nGo to shrinks?\\nGive up meat?\\nRarely sleep?\\nKeep people as pets?\\nTrain dogs?\\nRace rats?\\nFill the attic with cash?\\nBury treasure?\\nStore up leisure?\\nBut never relax at all\\nWith our backs to the wall.\\n', \"It was just before dawn\\nOne miserable morning in black 'forty four.\\nWhen the forward commander\\nWas told to sit tight\\nWhen he asked that his men be withdrawn.\\nAnd the Generals gave thanks\\nAs the other ranks held back\\nThe enemy tanks for a while.\\nAnd the Anzio bridgehead\\nWas held for the price\\nOf a few hundred ordinary lives.\\nAnd old King George\\nSent Mother a note\\nWhen he heard that father was gone.\\nIt was, I recall,\\nIn the form of a scroll,\\nWith gold leaf and all.\\nAnd I found it one day\\nIn a drawer of old photographs, hidden away.\\nAnd my eyes still grow damp to remember\\nHis Majesty signed\\nWith his own rubber stamp.\\nIt was dark all around.\\nThere was frost in the ground\\nWhen the tigers broke free.\\nAnd no one survived\\nFrom the Royal Fusiliers Company C.\\nThey were all left behind,\\nMost of them dead,\\nThe rest of them dying.\\nAnd that's how the High Command\\nTook my daddy from me.\\n\", \"Wined and dined, oh it seemed just like a dream!\\nGirl was so kind.\\nKind of love I'd never seen\\nOnly last summer, it's not so long ago...\\nJust last summer, now musk winds blow...\\nWined and dined, oh it seemed just like a dream!\\nGirl was so kind.\\nKind of love I'd never seen\\nOnly last summer, it's not so long ago...\\nJust last summer, now musk winds blow...\\nChalk underfoot, life I should prove\\nDancing in heat, our love and you...\\nWined and dined, oh it seemed just like a dream!\\nGirl was so kind.\\nKind of love I'd never seen\\nOnly last summer, it's not so long ago...\\nJust last summer, now musk winds blow...\\n\", 'Howling the pack in formation appears\\nDiamonds and clubs, light misted fog, the dead\\nWaving us back in formation,\\nThe pack in formation\\nBowling they bat as a group\\nAnd the leader is seen - so early...\\nThe pack on their backs, the fighters\\nThrough misty the waving - the pack in formation\\nFar reaching waves\\nOn sight, shone right\\nI lay as if in surround...\\nAll enmeshing, hovering...\\nThe milder I gaze\\nAll the animals laying trail\\nBeyond the bough winds\\nMild the reflecting electricity eyes...\\nTears, the life that was ours\\nGrows sharper and stronger away and beyond\\nShort wheeling - fresh spring\\nGripped with blanched bones - moaned\\nMagnesium, proverbs and sobs...\\nHowling the pack in formation appears\\nDiamonds and clubs, light misted fog, the dead\\nWaving us back in formation,\\nThe pack in formation...\\n', \"Heaven said the promised land\\nLooks allright from where I stand\\nCause I'm the man on the outside looking in\\nWaiting on the first step\\nShow where the key is kept\\nPoint me down the right line because it's time\\nTo let me in from the cold\\nTurn my land into gold\\nCause there's chill wind blowing in my soul\\nAnd I think I'm growing old\\nFlash the red is wots...uh the deal\\nGot to make to the next meal\\nTry to keep up with the turning of the wheel.\\nMile after mile\\nStone after stone\\nTurn to speak but you're alone\\nA million miles from home - you're on your own\\nSo let me in from the cold\\nTurn my land into gold\\nCause there's chill wind blowing in my soul\\nAnd I think I'm growing old\\nFly bright by candlelight\\nUp out of my sight\\nAnd if she prefers we will never stir again\\nSomeone said the promised land\\nAnd I grabbed it with both hands\\nNow I'm the man on the inside looking out\\nHear me shout 'come on in, what's the news and where've you been?'\\nCause there's no wind left in my soul\\nAnd I've grown old\\n\", \"One sound, one single sound\\none kiss, one single kiss,\\na face outside the window pane,\\nhowever did it come to this?\\nA man who ran: a child who cried\\na girl who heard, a voice that lied\\nthe sun that burned a fiery red\\nthe vision of an empty bed\\nThe use of forge, he was so tough\\nshe'll soon submit, she's had enough\\nthe march of fate, the broken will\\nsomeone is lying very still\\nHe has laughed and he has cried\\nhe has fought and he has died\\nhe's just the same as all the rest,\\nhe's not the worst, he's not the best\\nAnd still this ceaseless murmuring,\\nthe babbling that I brook,\\nthe seas of faces, eyes upraised\\nthe empty screen, the vacant look\\nA man in black on a snow white horse,\\na pointless life has run it's course,\\nthe red rimmed eyes, the tears still run\\nas he fades into the setting sun\\n\", \"I am just a new boy,\\nStranger in this town.\\nWhere are all the good times?\\nWho's gonna show this stranger around?\\nOoooo I need a dirty woman.\\nOoooo I need a dirty girl.\\nWill some woman in this desert land,\\nMake me feel like a real man?\\nTake this rock and roll refugee.\\nOoo Babe, set me free.\\nOoooo I need a dirty woman.\\nOoooo I need a dirty girl.\\nOoooo I need a dirty woman.\\nOoooo I need a dirty girl.\\n\", \"they flutter behind you your possible pasts\\nsome brighteyed and crazy some frightened and lost\\na warning to anyone still in command\\nof their possible future to take care\\nin derilict sidings the poppies entwine\\nwith cattle trucks lying in wait for the next time\\ndo you remember me? how we used to be?\\ndo you thing we should be closer?\\nshe stood in the doorway the ghost of a smile\\nhaunting her face like a cheap hotel sign\\nher cold eyes imploring the men in their macs\\nfor the gold in their bags or the knives in their backs\\nstepping up boldly one put out his hand\\nhe said,  i was just a child then now i'm only a man\\ndo you remember me? how we used to be?\\ndo you thing we should be closer?\\nby the cold and religious we were taken in hand\\nshown how to feel good and told to feel bad\\ntongue tied and terrified we learned how to pray\\nnow our feelings run deep and cold as the clay\\nand strung out behind us the banners and flags\\nof our possible pasts lie in tatters and rags\\ndo you remember me? how we used to be?\\ndo you thing we should be closer?\\n\"]\n"
          ],
          "name": "stdout"
        }
      ]
    },
    {
      "cell_type": "code",
      "metadata": {
        "id": "W_507hvrBYAo",
        "colab_type": "code",
        "outputId": "f37f964f-13cf-49d5-aef8-5f6e5b70d207",
        "colab": {
          "base_uri": "https://localhost:8080/",
          "height": 52
        }
      },
      "source": [
        "import string\n",
        "\n",
        "def clean_text(doc):\n",
        "\tdoc = doc.replace('--', ' ')\n",
        "\ttokens = doc.split()\n",
        "\ttable = str.maketrans('', '', string.punctuation)\n",
        "\ttokens = [w.translate(table) for w in tokens]\n",
        "\ttokens = [word for word in tokens if word.isalpha()]\n",
        "\ttokens = [word.lower() for word in tokens]\n",
        "\treturn tokens\n",
        "\n",
        "string_lyrics = \"\"\n",
        "tokens = clean_text(string_lyrics.join(all_lyrics))\n",
        "print('Total Tokens: %d' % len(tokens))\n",
        "print('Unique Tokens: %d' % len(set(tokens)))"
      ],
      "execution_count": 14,
      "outputs": [
        {
          "output_type": "stream",
          "text": [
            "Total Tokens: 23028\n",
            "Unique Tokens: 3098\n"
          ],
          "name": "stdout"
        }
      ]
    },
    {
      "cell_type": "code",
      "metadata": {
        "id": "RAbPK227CYf4",
        "colab_type": "code",
        "outputId": "dd0f5e86-8f6f-4a32-b3c0-421b3ebb227f",
        "colab": {
          "base_uri": "https://localhost:8080/",
          "height": 35
        }
      },
      "source": [
        "length = 50 + 1\n",
        "lines = list()\n",
        "for i in range(length, len(tokens)):\n",
        "\t# select sequence of tokens\n",
        "\tseq = tokens[i-length:i]\n",
        "\tline = ' '.join(seq)\n",
        "\tlines.append(line)\n",
        "print('Total Sequences: %d' % len(lines))"
      ],
      "execution_count": 28,
      "outputs": [
        {
          "output_type": "stream",
          "text": [
            "Total Sequences: 22977\n"
          ],
          "name": "stdout"
        }
      ]
    },
    {
      "cell_type": "code",
      "metadata": {
        "id": "oWd2Oe54B8wr",
        "colab_type": "code",
        "colab": {}
      },
      "source": [
        "tokenizer = Tokenizer()\n",
        "tokenizer.fit_on_texts(lines)\n",
        "text_seq = tokenizer.texts_to_sequences(lines)\n",
        "# vocabulary size\n",
        "vocab_size = len(tokenizer.word_index) + 1  "
      ],
      "execution_count": 0,
      "outputs": []
    },
    {
      "cell_type": "code",
      "metadata": {
        "id": "rFq3RtAFCpx2",
        "colab_type": "code",
        "colab": {}
      },
      "source": [
        "text_seq = np.array(text_seq)\n",
        "X, y = text_seq[:,:-1], text_seq[:,-1]\n",
        "y = ku.to_categorical(y, num_classes=vocab_size)\n",
        "seq_length = X.shape[1]"
      ],
      "execution_count": 0,
      "outputs": []
    },
    {
      "cell_type": "code",
      "metadata": {
        "id": "mjVt5K_YCoLZ",
        "colab_type": "code",
        "outputId": "9c225d57-564e-4481-fc2d-b2eb8ab707f9",
        "colab": {
          "base_uri": "https://localhost:8080/",
          "height": 364
        }
      },
      "source": [
        "checkpoint_path = \"/content/drive/My Drive/Lyrics_generator/cp-{epoch:04d}.ckpt\" \n",
        "\n",
        "def create_model(vocab_size, seq_length):\n",
        "  model = Sequential()\n",
        "  model.add(Embedding(vocab_size, 50, input_length=seq_length))\n",
        "  model.add(LSTM(100, return_sequences=True))\n",
        "  model.add(LSTM(100))\n",
        "  model.add(Dropout(0.5))\n",
        "  model.add(Dense(100, activation='relu'))\n",
        "  model.add(Dense(vocab_size, activation='softmax'))\n",
        "  model.summary()\n",
        "\n",
        "model = create_model(vocab_size, seq_length)"
      ],
      "execution_count": 29,
      "outputs": [
        {
          "output_type": "stream",
          "text": [
            "Model: \"sequential_1\"\n",
            "_________________________________________________________________\n",
            "Layer (type)                 Output Shape              Param #   \n",
            "=================================================================\n",
            "embedding_1 (Embedding)      (None, 50, 50)            154950    \n",
            "_________________________________________________________________\n",
            "lstm_1 (LSTM)                (None, 50, 100)           60400     \n",
            "_________________________________________________________________\n",
            "lstm_2 (LSTM)                (None, 100)               80400     \n",
            "_________________________________________________________________\n",
            "dropout_1 (Dropout)          (None, 100)               0         \n",
            "_________________________________________________________________\n",
            "dense_1 (Dense)              (None, 100)               10100     \n",
            "_________________________________________________________________\n",
            "dense_2 (Dense)              (None, 3099)              312999    \n",
            "=================================================================\n",
            "Total params: 618,849\n",
            "Trainable params: 618,849\n",
            "Non-trainable params: 0\n",
            "_________________________________________________________________\n"
          ],
          "name": "stdout"
        }
      ]
    },
    {
      "cell_type": "code",
      "metadata": {
        "id": "7G0eD5H7CxA4",
        "colab_type": "code",
        "outputId": "de59378f-e426-4aad-bfb3-320e43da3ff8",
        "colab": {
          "base_uri": "https://localhost:8080/",
          "height": 1000
        }
      },
      "source": [
        "import os\n",
        "from keras.callbacks import ModelCheckpoint\n",
        "cp_callback = ModelCheckpoint(checkpoint_path, save_weights_only=True, verbose=1, period=5)\n",
        "model.save_weights(checkpoint_path.format(epoch=0))\n",
        "# model.load_weights(\"/content/drive/My Drive/Lyrics_generator/cp-0070.ckpt\")\n",
        "model.compile(loss='categorical_crossentropy', optimizer='adam', metrics=['accuracy'])\n",
        "model.fit(X, y, batch_size=128, epochs=100, callbacks = [cp_callback])"
      ],
      "execution_count": 149,
      "outputs": [
        {
          "output_type": "stream",
          "text": [
            "Epoch 1/100\n",
            "22977/22977 [==============================] - 42s 2ms/step - loss: 6.6923 - acc: 0.0574\n",
            "Epoch 2/100\n",
            "22977/22977 [==============================] - 39s 2ms/step - loss: 6.3143 - acc: 0.0608\n",
            "Epoch 3/100\n",
            "22977/22977 [==============================] - 39s 2ms/step - loss: 6.1852 - acc: 0.0608\n",
            "Epoch 4/100\n",
            "22977/22977 [==============================] - 39s 2ms/step - loss: 6.1099 - acc: 0.0611\n",
            "Epoch 5/100\n",
            "22977/22977 [==============================] - 39s 2ms/step - loss: 6.0204 - acc: 0.0656\n",
            "\n",
            "Epoch 00005: saving model to /content/drive/My Drive/Lyrics_generator/cp-0005.ckpt\n",
            "Epoch 6/100\n",
            "22977/22977 [==============================] - 39s 2ms/step - loss: 5.9342 - acc: 0.0682\n",
            "Epoch 7/100\n",
            "22977/22977 [==============================] - 38s 2ms/step - loss: 5.8621 - acc: 0.0698\n",
            "Epoch 8/100\n",
            "22977/22977 [==============================] - 39s 2ms/step - loss: 5.7916 - acc: 0.0694\n",
            "Epoch 9/100\n",
            "22977/22977 [==============================] - 38s 2ms/step - loss: 5.7160 - acc: 0.0702\n",
            "Epoch 10/100\n",
            "22977/22977 [==============================] - 39s 2ms/step - loss: 5.6303 - acc: 0.0734\n",
            "\n",
            "Epoch 00010: saving model to /content/drive/My Drive/Lyrics_generator/cp-0010.ckpt\n",
            "Epoch 11/100\n",
            "22977/22977 [==============================] - 38s 2ms/step - loss: 5.5508 - acc: 0.0763\n",
            "Epoch 12/100\n",
            "22977/22977 [==============================] - 38s 2ms/step - loss: 5.4733 - acc: 0.0820\n",
            "Epoch 13/100\n",
            "22977/22977 [==============================] - 38s 2ms/step - loss: 5.3947 - acc: 0.0880\n",
            "Epoch 14/100\n",
            "22977/22977 [==============================] - 38s 2ms/step - loss: 5.3186 - acc: 0.0950\n",
            "Epoch 15/100\n",
            "22977/22977 [==============================] - 38s 2ms/step - loss: 5.2497 - acc: 0.1003\n",
            "\n",
            "Epoch 00015: saving model to /content/drive/My Drive/Lyrics_generator/cp-0015.ckpt\n",
            "Epoch 16/100\n",
            "22977/22977 [==============================] - 38s 2ms/step - loss: 5.1842 - acc: 0.1032\n",
            "Epoch 17/100\n",
            "22977/22977 [==============================] - 38s 2ms/step - loss: 5.1241 - acc: 0.1084\n",
            "Epoch 18/100\n",
            "22977/22977 [==============================] - 39s 2ms/step - loss: 5.0672 - acc: 0.1132\n",
            "Epoch 19/100\n",
            "22977/22977 [==============================] - 38s 2ms/step - loss: 5.2209 - acc: 0.1054\n",
            "Epoch 20/100\n",
            "22977/22977 [==============================] - 38s 2ms/step - loss: 5.3610 - acc: 0.0969\n",
            "\n",
            "Epoch 00020: saving model to /content/drive/My Drive/Lyrics_generator/cp-0020.ckpt\n",
            "Epoch 21/100\n",
            "22977/22977 [==============================] - 38s 2ms/step - loss: 5.1357 - acc: 0.1082\n",
            "Epoch 22/100\n",
            "22977/22977 [==============================] - 38s 2ms/step - loss: 5.0256 - acc: 0.1142\n",
            "Epoch 23/100\n",
            "22977/22977 [==============================] - 38s 2ms/step - loss: 4.9411 - acc: 0.1187\n",
            "Epoch 24/100\n",
            "22977/22977 [==============================] - 38s 2ms/step - loss: 4.8680 - acc: 0.1242\n",
            "Epoch 25/100\n",
            "22977/22977 [==============================] - 38s 2ms/step - loss: 4.7986 - acc: 0.1287\n",
            "\n",
            "Epoch 00025: saving model to /content/drive/My Drive/Lyrics_generator/cp-0025.ckpt\n",
            "Epoch 26/100\n",
            "22977/22977 [==============================] - 38s 2ms/step - loss: 4.7351 - acc: 0.1305\n",
            "Epoch 27/100\n",
            "22977/22977 [==============================] - 38s 2ms/step - loss: 4.6651 - acc: 0.1374\n",
            "Epoch 28/100\n",
            "22977/22977 [==============================] - 38s 2ms/step - loss: 4.5909 - acc: 0.1426\n",
            "Epoch 29/100\n",
            "22977/22977 [==============================] - 38s 2ms/step - loss: 4.5262 - acc: 0.1466\n",
            "Epoch 30/100\n",
            "22977/22977 [==============================] - 38s 2ms/step - loss: 4.4687 - acc: 0.1490\n",
            "\n",
            "Epoch 00030: saving model to /content/drive/My Drive/Lyrics_generator/cp-0030.ckpt\n",
            "Epoch 31/100\n",
            "22977/22977 [==============================] - 38s 2ms/step - loss: 4.3920 - acc: 0.1574\n",
            "Epoch 32/100\n",
            "22977/22977 [==============================] - 38s 2ms/step - loss: 4.3360 - acc: 0.1615\n",
            "Epoch 33/100\n",
            "22977/22977 [==============================] - 38s 2ms/step - loss: 4.2824 - acc: 0.1643\n",
            "Epoch 34/100\n",
            "22977/22977 [==============================] - 39s 2ms/step - loss: 4.2122 - acc: 0.1712\n",
            "Epoch 35/100\n",
            "22977/22977 [==============================] - 39s 2ms/step - loss: 4.1493 - acc: 0.1776\n",
            "\n",
            "Epoch 00035: saving model to /content/drive/My Drive/Lyrics_generator/cp-0035.ckpt\n",
            "Epoch 36/100\n",
            "22977/22977 [==============================] - 38s 2ms/step - loss: 4.0942 - acc: 0.1808\n",
            "Epoch 37/100\n",
            "22977/22977 [==============================] - 38s 2ms/step - loss: 4.0513 - acc: 0.1817\n",
            "Epoch 38/100\n",
            "22977/22977 [==============================] - 38s 2ms/step - loss: 3.9830 - acc: 0.1905\n",
            "Epoch 39/100\n",
            "22977/22977 [==============================] - 38s 2ms/step - loss: 3.9417 - acc: 0.1947\n",
            "Epoch 40/100\n",
            "22977/22977 [==============================] - 38s 2ms/step - loss: 3.8929 - acc: 0.1981\n",
            "\n",
            "Epoch 00040: saving model to /content/drive/My Drive/Lyrics_generator/cp-0040.ckpt\n",
            "Epoch 41/100\n",
            "22977/22977 [==============================] - 38s 2ms/step - loss: 3.8419 - acc: 0.2046\n",
            "Epoch 42/100\n",
            "22977/22977 [==============================] - 38s 2ms/step - loss: 3.7892 - acc: 0.2100\n",
            "Epoch 43/100\n",
            "22977/22977 [==============================] - 39s 2ms/step - loss: 3.7455 - acc: 0.2168\n",
            "Epoch 44/100\n",
            "22977/22977 [==============================] - 38s 2ms/step - loss: 3.7064 - acc: 0.2174\n",
            "Epoch 45/100\n",
            "22977/22977 [==============================] - 38s 2ms/step - loss: 3.6631 - acc: 0.2193\n",
            "\n",
            "Epoch 00045: saving model to /content/drive/My Drive/Lyrics_generator/cp-0045.ckpt\n",
            "Epoch 46/100\n",
            "22977/22977 [==============================] - 38s 2ms/step - loss: 3.6018 - acc: 0.2310\n",
            "Epoch 47/100\n",
            "22977/22977 [==============================] - 38s 2ms/step - loss: 3.5802 - acc: 0.2308\n",
            "Epoch 48/100\n",
            "22977/22977 [==============================] - 38s 2ms/step - loss: 3.5326 - acc: 0.2388\n",
            "Epoch 49/100\n",
            "22977/22977 [==============================] - 38s 2ms/step - loss: 3.4942 - acc: 0.2408\n",
            "Epoch 50/100\n",
            "22977/22977 [==============================] - 38s 2ms/step - loss: 3.4575 - acc: 0.2464\n",
            "\n",
            "Epoch 00050: saving model to /content/drive/My Drive/Lyrics_generator/cp-0050.ckpt\n",
            "Epoch 51/100\n",
            "22977/22977 [==============================] - 38s 2ms/step - loss: 3.4285 - acc: 0.2510\n",
            "Epoch 52/100\n",
            "22977/22977 [==============================] - 38s 2ms/step - loss: 3.4017 - acc: 0.2512\n",
            "Epoch 53/100\n",
            "22977/22977 [==============================] - 38s 2ms/step - loss: 3.3631 - acc: 0.2593\n",
            "Epoch 54/100\n",
            "22977/22977 [==============================] - 38s 2ms/step - loss: 3.3338 - acc: 0.2645\n",
            "Epoch 55/100\n",
            "22977/22977 [==============================] - 38s 2ms/step - loss: 3.3177 - acc: 0.2666\n",
            "\n",
            "Epoch 00055: saving model to /content/drive/My Drive/Lyrics_generator/cp-0055.ckpt\n",
            "Epoch 56/100\n",
            "22977/22977 [==============================] - 38s 2ms/step - loss: 3.2717 - acc: 0.2689\n",
            "Epoch 57/100\n",
            "22977/22977 [==============================] - 38s 2ms/step - loss: 3.2433 - acc: 0.2777\n",
            "Epoch 58/100\n",
            "22977/22977 [==============================] - 38s 2ms/step - loss: 3.2182 - acc: 0.2775\n",
            "Epoch 59/100\n",
            "22977/22977 [==============================] - 38s 2ms/step - loss: 3.1757 - acc: 0.2855\n",
            "Epoch 60/100\n",
            "22977/22977 [==============================] - 38s 2ms/step - loss: 3.1534 - acc: 0.2903\n",
            "\n",
            "Epoch 00060: saving model to /content/drive/My Drive/Lyrics_generator/cp-0060.ckpt\n",
            "Epoch 61/100\n",
            "22977/22977 [==============================] - 38s 2ms/step - loss: 3.1125 - acc: 0.2959\n",
            "Epoch 62/100\n",
            "22977/22977 [==============================] - 38s 2ms/step - loss: 3.0893 - acc: 0.2953\n",
            "Epoch 63/100\n",
            "22977/22977 [==============================] - 38s 2ms/step - loss: 3.0691 - acc: 0.3016\n",
            "Epoch 64/100\n",
            "22977/22977 [==============================] - 38s 2ms/step - loss: 3.0484 - acc: 0.3024\n",
            "Epoch 65/100\n",
            "22977/22977 [==============================] - 38s 2ms/step - loss: 3.0188 - acc: 0.3064\n",
            "\n",
            "Epoch 00065: saving model to /content/drive/My Drive/Lyrics_generator/cp-0065.ckpt\n",
            "Epoch 66/100\n",
            "22977/22977 [==============================] - 38s 2ms/step - loss: 2.9934 - acc: 0.3152\n",
            "Epoch 67/100\n",
            "22977/22977 [==============================] - 38s 2ms/step - loss: 2.9568 - acc: 0.3218\n",
            "Epoch 68/100\n",
            "22977/22977 [==============================] - 38s 2ms/step - loss: 2.9412 - acc: 0.3245\n",
            "Epoch 69/100\n",
            "22977/22977 [==============================] - 38s 2ms/step - loss: 2.9289 - acc: 0.3220\n",
            "Epoch 70/100\n",
            "22977/22977 [==============================] - 38s 2ms/step - loss: 2.8890 - acc: 0.3286\n",
            "\n",
            "Epoch 00070: saving model to /content/drive/My Drive/Lyrics_generator/cp-0070.ckpt\n",
            "Epoch 71/100\n",
            "22977/22977 [==============================] - 38s 2ms/step - loss: 2.8640 - acc: 0.3319\n",
            "Epoch 72/100\n",
            "22977/22977 [==============================] - 38s 2ms/step - loss: 2.8387 - acc: 0.3383\n",
            "Epoch 73/100\n",
            "22977/22977 [==============================] - 38s 2ms/step - loss: 2.8169 - acc: 0.3423\n",
            "Epoch 74/100\n",
            "22977/22977 [==============================] - 38s 2ms/step - loss: 2.7967 - acc: 0.3426\n",
            "Epoch 75/100\n",
            "22977/22977 [==============================] - 38s 2ms/step - loss: 2.7787 - acc: 0.3477\n",
            "\n",
            "Epoch 00075: saving model to /content/drive/My Drive/Lyrics_generator/cp-0075.ckpt\n",
            "Epoch 76/100\n",
            "22977/22977 [==============================] - 38s 2ms/step - loss: 2.7565 - acc: 0.3500\n",
            "Epoch 77/100\n",
            "22977/22977 [==============================] - 38s 2ms/step - loss: 2.7295 - acc: 0.3556\n",
            "Epoch 78/100\n",
            "22977/22977 [==============================] - 38s 2ms/step - loss: 2.7067 - acc: 0.3577\n",
            "Epoch 79/100\n",
            "22977/22977 [==============================] - 38s 2ms/step - loss: 2.6932 - acc: 0.3620\n",
            "Epoch 80/100\n",
            "22977/22977 [==============================] - 38s 2ms/step - loss: 2.6730 - acc: 0.3684\n",
            "\n",
            "Epoch 00080: saving model to /content/drive/My Drive/Lyrics_generator/cp-0080.ckpt\n",
            "Epoch 81/100\n",
            "22977/22977 [==============================] - 38s 2ms/step - loss: 2.6495 - acc: 0.3713\n",
            "Epoch 82/100\n",
            "22977/22977 [==============================] - 38s 2ms/step - loss: 2.6230 - acc: 0.3766\n",
            "Epoch 83/100\n",
            "22977/22977 [==============================] - 38s 2ms/step - loss: 2.6126 - acc: 0.3717\n",
            "Epoch 84/100\n",
            "22977/22977 [==============================] - 38s 2ms/step - loss: 2.5636 - acc: 0.3895\n",
            "Epoch 85/100\n",
            "22977/22977 [==============================] - 38s 2ms/step - loss: 2.5718 - acc: 0.3839\n",
            "\n",
            "Epoch 00085: saving model to /content/drive/My Drive/Lyrics_generator/cp-0085.ckpt\n",
            "Epoch 86/100\n",
            "22977/22977 [==============================] - 38s 2ms/step - loss: 2.5469 - acc: 0.3885\n",
            "Epoch 87/100\n",
            "22977/22977 [==============================] - 38s 2ms/step - loss: 2.5241 - acc: 0.3949\n",
            "Epoch 88/100\n",
            "22977/22977 [==============================] - 38s 2ms/step - loss: 2.5171 - acc: 0.3913\n",
            "Epoch 89/100\n",
            "22977/22977 [==============================] - 38s 2ms/step - loss: 2.7116 - acc: 0.3725\n",
            "Epoch 90/100\n",
            "22977/22977 [==============================] - 38s 2ms/step - loss: 2.9312 - acc: 0.3252\n",
            "\n",
            "Epoch 00090: saving model to /content/drive/My Drive/Lyrics_generator/cp-0090.ckpt\n",
            "Epoch 91/100\n",
            "22977/22977 [==============================] - 38s 2ms/step - loss: 2.8466 - acc: 0.3580\n",
            "Epoch 92/100\n",
            "22977/22977 [==============================] - 38s 2ms/step - loss: 3.0637 - acc: 0.3056\n",
            "Epoch 93/100\n",
            "22977/22977 [==============================] - 38s 2ms/step - loss: 2.6983 - acc: 0.3610\n",
            "Epoch 94/100\n",
            "22977/22977 [==============================] - 38s 2ms/step - loss: 2.6108 - acc: 0.3779\n",
            "Epoch 95/100\n",
            "22977/22977 [==============================] - 38s 2ms/step - loss: 2.5464 - acc: 0.3950\n",
            "\n",
            "Epoch 00095: saving model to /content/drive/My Drive/Lyrics_generator/cp-0095.ckpt\n",
            "Epoch 96/100\n",
            "22977/22977 [==============================] - 38s 2ms/step - loss: 2.5103 - acc: 0.3960\n",
            "Epoch 97/100\n",
            "22977/22977 [==============================] - 38s 2ms/step - loss: 2.4740 - acc: 0.4040\n",
            "Epoch 98/100\n",
            "22977/22977 [==============================] - 38s 2ms/step - loss: 2.4428 - acc: 0.4092\n",
            "Epoch 99/100\n",
            "22977/22977 [==============================] - 38s 2ms/step - loss: 2.4219 - acc: 0.4145\n",
            "Epoch 100/100\n",
            "22977/22977 [==============================] - 38s 2ms/step - loss: 2.3989 - acc: 0.4159\n",
            "\n",
            "Epoch 00100: saving model to /content/drive/My Drive/Lyrics_generator/cp-0100.ckpt\n"
          ],
          "name": "stdout"
        },
        {
          "output_type": "execute_result",
          "data": {
            "text/plain": [
              "<keras.callbacks.History at 0x7ff976a48908>"
            ]
          },
          "metadata": {
            "tags": []
          },
          "execution_count": 149
        }
      ]
    },
    {
      "cell_type": "code",
      "metadata": {
        "id": "ACzjm__-kUqm",
        "colab_type": "code",
        "colab": {}
      },
      "source": [
        "model.save('/content/drive/My Drive/Lyrics_generator/PinkFloydLyricsGenerator.h5')"
      ],
      "execution_count": 0,
      "outputs": []
    },
    {
      "cell_type": "code",
      "metadata": {
        "id": "d5HJNpCN7c-p",
        "colab_type": "code",
        "outputId": "99b36c8d-99f2-45b9-c7e0-ef3ce3f5b581",
        "colab": {
          "base_uri": "https://localhost:8080/",
          "height": 991
        }
      },
      "source": [
        "model = load_model('/content/drive/My Drive/Lyrics_generator/PinkFloydLyricsGenerator.h5')\n",
        "print(\"Loaded model\")\n",
        "model.summary()"
      ],
      "execution_count": 9,
      "outputs": [
        {
          "output_type": "stream",
          "text": [
            "WARNING:tensorflow:From /usr/local/lib/python3.6/dist-packages/keras/backend/tensorflow_backend.py:541: The name tf.placeholder is deprecated. Please use tf.compat.v1.placeholder instead.\n",
            "\n",
            "WARNING:tensorflow:From /usr/local/lib/python3.6/dist-packages/keras/backend/tensorflow_backend.py:4432: The name tf.random_uniform is deprecated. Please use tf.random.uniform instead.\n",
            "\n",
            "WARNING:tensorflow:From /usr/local/lib/python3.6/dist-packages/keras/backend/tensorflow_backend.py:66: The name tf.get_default_graph is deprecated. Please use tf.compat.v1.get_default_graph instead.\n",
            "\n",
            "WARNING:tensorflow:From /usr/local/lib/python3.6/dist-packages/keras/backend/tensorflow_backend.py:148: The name tf.placeholder_with_default is deprecated. Please use tf.compat.v1.placeholder_with_default instead.\n",
            "\n",
            "WARNING:tensorflow:From /usr/local/lib/python3.6/dist-packages/keras/backend/tensorflow_backend.py:3733: calling dropout (from tensorflow.python.ops.nn_ops) with keep_prob is deprecated and will be removed in a future version.\n",
            "Instructions for updating:\n",
            "Please use `rate` instead of `keep_prob`. Rate should be set to `rate = 1 - keep_prob`.\n",
            "WARNING:tensorflow:From /usr/local/lib/python3.6/dist-packages/keras/backend/tensorflow_backend.py:190: The name tf.get_default_session is deprecated. Please use tf.compat.v1.get_default_session instead.\n",
            "\n",
            "WARNING:tensorflow:From /usr/local/lib/python3.6/dist-packages/keras/backend/tensorflow_backend.py:197: The name tf.ConfigProto is deprecated. Please use tf.compat.v1.ConfigProto instead.\n",
            "\n",
            "WARNING:tensorflow:From /usr/local/lib/python3.6/dist-packages/keras/backend/tensorflow_backend.py:203: The name tf.Session is deprecated. Please use tf.compat.v1.Session instead.\n",
            "\n",
            "WARNING:tensorflow:From /usr/local/lib/python3.6/dist-packages/keras/backend/tensorflow_backend.py:207: The name tf.global_variables is deprecated. Please use tf.compat.v1.global_variables instead.\n",
            "\n",
            "WARNING:tensorflow:From /usr/local/lib/python3.6/dist-packages/keras/backend/tensorflow_backend.py:216: The name tf.is_variable_initialized is deprecated. Please use tf.compat.v1.is_variable_initialized instead.\n",
            "\n",
            "WARNING:tensorflow:From /usr/local/lib/python3.6/dist-packages/keras/backend/tensorflow_backend.py:223: The name tf.variables_initializer is deprecated. Please use tf.compat.v1.variables_initializer instead.\n",
            "\n",
            "WARNING:tensorflow:From /usr/local/lib/python3.6/dist-packages/keras/optimizers.py:793: The name tf.train.Optimizer is deprecated. Please use tf.compat.v1.train.Optimizer instead.\n",
            "\n",
            "WARNING:tensorflow:From /usr/local/lib/python3.6/dist-packages/keras/backend/tensorflow_backend.py:3576: The name tf.log is deprecated. Please use tf.math.log instead.\n",
            "\n",
            "WARNING:tensorflow:From /usr/local/lib/python3.6/dist-packages/tensorflow_core/python/ops/math_grad.py:1424: where (from tensorflow.python.ops.array_ops) is deprecated and will be removed in a future version.\n",
            "Instructions for updating:\n",
            "Use tf.where in 2.0, which has the same broadcast rule as np.where\n",
            "WARNING:tensorflow:From /usr/local/lib/python3.6/dist-packages/keras/backend/tensorflow_backend.py:1033: The name tf.assign_add is deprecated. Please use tf.compat.v1.assign_add instead.\n",
            "\n",
            "WARNING:tensorflow:From /usr/local/lib/python3.6/dist-packages/keras/backend/tensorflow_backend.py:1020: The name tf.assign is deprecated. Please use tf.compat.v1.assign instead.\n",
            "\n",
            "Loaded model\n",
            "Model: \"sequential_7\"\n",
            "_________________________________________________________________\n",
            "Layer (type)                 Output Shape              Param #   \n",
            "=================================================================\n",
            "embedding_2 (Embedding)      (None, 50, 50)            154950    \n",
            "_________________________________________________________________\n",
            "lstm_7 (LSTM)                (None, 50, 100)           60400     \n",
            "_________________________________________________________________\n",
            "lstm_8 (LSTM)                (None, 100)               80400     \n",
            "_________________________________________________________________\n",
            "dropout_7 (Dropout)          (None, 100)               0         \n",
            "_________________________________________________________________\n",
            "dense_7 (Dense)              (None, 100)               10100     \n",
            "_________________________________________________________________\n",
            "dense_8 (Dense)              (None, 3099)              312999    \n",
            "=================================================================\n",
            "Total params: 618,849\n",
            "Trainable params: 618,849\n",
            "Non-trainable params: 0\n",
            "_________________________________________________________________\n"
          ],
          "name": "stdout"
        }
      ]
    },
    {
      "cell_type": "code",
      "metadata": {
        "id": "J2MrGT_nHKVq",
        "colab_type": "code",
        "colab": {}
      },
      "source": [
        "# generate a sequence from a language model\n",
        "def generate_seq(model, tokenizer, seq_length, seed_text, n_words):\n",
        "\tresult = list()\n",
        "\tin_text = seed_text\n",
        "\t# generate a fixed number of words\n",
        "\tfor _ in range(n_words):\n",
        "\t\t# encode the text as integer\n",
        "\t\tencoded = tokenizer.texts_to_sequences([in_text])[0]\n",
        "\t\t# truncate sequences to a fixed length\n",
        "\t\tencoded = pad_sequences([encoded], maxlen=seq_length, truncating='pre')\n",
        "\t\t# predict probabilities for each word\n",
        "\t\tyhat = model.predict_classes(encoded, verbose=0)\n",
        "\t\t# map predicted word index to word\n",
        "\t\tout_word = ''\n",
        "\t\tfor word, index in tokenizer.word_index.items():\n",
        "\t\t\tif index == yhat:\n",
        "\t\t\t\tout_word = word\n",
        "\t\t\t\tbreak\n",
        "\t\t# append to input\n",
        "\t\tin_text += ' ' + out_word\n",
        "\t\tresult.append(out_word)\n",
        "\treturn ' '.join(result)"
      ],
      "execution_count": 0,
      "outputs": []
    },
    {
      "cell_type": "code",
      "metadata": {
        "id": "KyiT2KILHRXE",
        "colab_type": "code",
        "colab": {
          "base_uri": "https://localhost:8080/",
          "height": 72
        },
        "outputId": "6ce3f083-0340-4696-b01e-23d7db9c6ab3"
      },
      "source": [
        "# generate new text\n",
        "from random import randint\n",
        "# seed_text = lines[randint(0,len(lines))]\n",
        "seed_text = \"hello is there anybody out there just nod if you can hear me is there anyone at home come on now i hear youre feeling down i can ease your pain and get you on your feet again relax ill need some information first just the basic facts can you show where it hurts\"\n",
        "print(seed_text)\n",
        "\n",
        "generated = generate_seq(model, tokenizer, seq_length, seed_text, 50)\n",
        "print(generated)"
      ],
      "execution_count": 27,
      "outputs": [
        {
          "output_type": "stream",
          "text": [
            "hello is there anybody out there just nod if you can hear me is there anyone at home come on now i hear youre feeling down i can ease your pain and get you on your feet again relax ill need some information first just the basic facts can you show where it hurts\n",
            "the same is no matter vegetable man now musk bang motionless upon the crowd of judging i have withdrawn and the generals gave thanks as the other ranks held pouring the next meal try to stay in the attic to you pleasednah nah nah nah nah nah nah nah nah\n"
          ],
          "name": "stdout"
        }
      ]
    }
  ]
}